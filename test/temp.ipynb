{
 "metadata": {
  "language_info": {
   "codemirror_mode": {
    "name": "ipython",
    "version": 3
   },
   "file_extension": ".py",
   "mimetype": "text/x-python",
   "name": "python",
   "nbconvert_exporter": "python",
   "pygments_lexer": "ipython3",
   "version": "3.7.6-final"
  },
  "orig_nbformat": 2,
  "kernelspec": {
   "name": "python3",
   "display_name": "Python 3.7.6 64-bit",
   "metadata": {
    "interpreter": {
     "hash": "4a4131f4b61c98856ec7300b82859a8caa1fd6fdd653dbf5157bab1a0dd486eb"
    }
   }
  }
 },
 "nbformat": 4,
 "nbformat_minor": 2,
 "cells": [
  {
   "cell_type": "code",
   "execution_count": 3,
   "metadata": {},
   "outputs": [
    {
     "output_type": "stream",
     "name": "stdout",
     "text": [
      "psutil:          6 CPUs PHYSICAL\npsutil:          12 CPUs LOGICAL\n"
     ]
    }
   ],
   "source": [
    "import psutil\n",
    "print \\\n",
    "    ( \"{0:17s}{1:} CPUs PHYSICAL\" \\\n",
    "        .format \\\n",
    "            ( \"psutil:\"\n",
    "            , psutil.cpu_count( logical = False ) \n",
    "            ) \n",
    "    )\n",
    "pass\n",
    "print \\\n",
    "    ( \"{0:17s}{1:} CPUs LOGICAL\" \\\n",
    "        .format \\\n",
    "            ( \"psutil:\"\n",
    "            , psutil.cpu_count( logical = True ) \n",
    "            ) \n",
    "    )\n"
   ]
  },
  {
   "cell_type": "code",
   "execution_count": 6,
   "metadata": {},
   "outputs": [
    {
     "output_type": "stream",
     "name": "stdout",
     "text": [
      "False\n"
     ]
    }
   ],
   "source": [
    "print(set([\"this\",\"that\"])==[\"this\",\"that\"])"
   ]
  }
 ]
}