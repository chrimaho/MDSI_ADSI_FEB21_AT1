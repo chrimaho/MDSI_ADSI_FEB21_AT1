{
 "cells": [
  {
   "cell_type": "code",
   "execution_count": 30,
   "metadata": {},
   "outputs": [],
   "source": [
    "#Set up packages and load data frame\n",
    "import pandas as pd\n",
    "import numpy as np\n",
    "from sklearn.model_selection import GridSearchCV\n",
    "import matplotlib.pyplot as plt\n",
    "%matplotlib inline\n",
    "\n",
    "trainDF = pd.read_csv('../data/raw/train.csv')\n",
    "testDF = pd.read_csv('../data/raw/test.csv')\n",
    "\n",
    "#Experiment 1 - make goal values absolute\n",
    "trainDF['3P Made'] = trainDF['3P Made'].abs()\n",
    "trainDF['3PA'] = trainDF['3PA'].abs()\n",
    "trainDF['3P%'] = trainDF['3P%'].abs()\n"
   ]
  },
  {
   "cell_type": "code",
   "execution_count": 10,
   "metadata": {},
   "outputs": [],
   "source": [
    "#Remove Id columns as irrelevant\n",
    "\n",
    "\n",
    "trainDF_cleaned = trainDF.copy()\n",
    "trainDF_cleaned.drop(['Id_old','Id'], axis=1, inplace=True)\n",
    "target = trainDF_cleaned.pop('TARGET_5Yrs')\n",
    "\n",
    "testDF_cleaned = testDF.copy()\n",
    "testDF_cleaned.drop(['Id_old','Id'], axis=1, inplace=True)"
   ]
  },
  {
   "cell_type": "code",
   "execution_count": null,
   "metadata": {},
   "outputs": [],
   "source": [
    "#Explore data\n",
    "trainDF_cleaned.head\n",
    "trainDF_cleaned.info()\n",
    "trainDF_cleaned.describe()"
   ]
  },
  {
   "cell_type": "code",
   "execution_count": 44,
   "metadata": {},
   "outputs": [
    {
     "name": "stdout",
     "output_type": "stream",
     "text": [
      "Fitting 10 folds for each of 4 candidates, totalling 40 fits\n"
     ]
    },
    {
     "name": "stderr",
     "output_type": "stream",
     "text": [
      "[Parallel(n_jobs=-1)]: Using backend LokyBackend with 4 concurrent workers.\n",
      "[Parallel(n_jobs=-1)]: Done  40 out of  40 | elapsed:    6.8s finished\n"
     ]
    },
    {
     "data": {
      "text/plain": [
       "GridSearchCV(cv=10, error_score=nan,\n",
       "             estimator=KNeighborsClassifier(algorithm='auto', leaf_size=30,\n",
       "                                            metric='minkowski',\n",
       "                                            metric_params=None, n_jobs=None,\n",
       "                                            n_neighbors=27, p=2,\n",
       "                                            weights='uniform'),\n",
       "             iid='deprecated', n_jobs=-1,\n",
       "             param_grid={'metric': ['euclidean', 'manhattan'],\n",
       "                         'n_neighbors': [27],\n",
       "                         'weights': ['uniform', 'distance']},\n",
       "             pre_dispatch='2*n_jobs', refit=True, return_train_score=False,\n",
       "             scoring=None, verbose=1)"
      ]
     },
     "execution_count": 44,
     "metadata": {},
     "output_type": "execute_result"
    }
   ],
   "source": [
    "#Experiment 2 - GridSearch with cross-validation\n",
    "\n",
    "k_range = list(range(1, 31))\n",
    "param_grid = {\n",
    "    'n_neighbors': [27],\n",
    "    'weights': ['uniform', 'distance'],\n",
    "    'metric': ['euclidean', 'manhattan']\n",
    "    }\n",
    "\n",
    "grid = GridSearchCV(knn, param_grid, verbose = 1, cv=10, n_jobs = -1)\n",
    "grid.fit(trainDF, target)\n",
    "\n",
    "grid.cv_results_\n",
    "print(grid.best_score_)\n",
    "print(grid.best_params_)\n",
    "print(grid.best_estimator_)\n"
   ]
  },
  {
   "cell_type": "code",
   "execution_count": 12,
   "metadata": {},
   "outputs": [],
   "source": [
    "#Data pre-processing\n",
    "\n",
    "from sklearn.preprocessing import StandardScaler\n",
    "scaler = StandardScaler()\n",
    "trainDF_cleaned = scaler.fit_transform(trainDF_cleaned)\n",
    "testDF_cleaned = scaler.fit_transform(testDF_cleaned)"
   ]
  },
  {
   "cell_type": "code",
   "execution_count": 13,
   "metadata": {},
   "outputs": [
    {
     "data": {
      "text/plain": [
       "['../models/scaler.joblib']"
      ]
     },
     "execution_count": 13,
     "metadata": {},
     "output_type": "execute_result"
    }
   ],
   "source": [
    "#Save scaler model\n",
    "from joblib import dump\n",
    "dump(scaler, '../models/scaler.joblib')"
   ]
  },
  {
   "cell_type": "code",
   "execution_count": 14,
   "metadata": {},
   "outputs": [],
   "source": [
    "#Split data into 20% val and 80% training data\n",
    "from sklearn.model_selection import train_test_split\n",
    "X_train, X_val, y_train, y_val = train_test_split (trainDF_cleaned, target, test_size=0.2, random_state=8)\n",
    "\n",
    "np.save('../data/processed/X_train', X_train)\n",
    "np.save('../data/processed/X_val',   X_val)\n",
    "\n",
    "np.save('../data/processed/y_train', y_train)\n",
    "np.save('../data/processed/y_val',   y_val)\n",
    "\n"
   ]
  },
  {
   "cell_type": "code",
   "execution_count": 15,
   "metadata": {},
   "outputs": [
    {
     "name": "stdout",
     "output_type": "stream",
     "text": [
      "0.3736996987472026\n",
      "0.27930292968750003\n"
     ]
    }
   ],
   "source": [
    "#Baseline model\n",
    "\n",
    "y_mean = y_train.mean()\n",
    "y_base = np.full((len(y_train), 1), y_mean)\n",
    "\n",
    "from sklearn.metrics import mean_squared_error as mse\n",
    "from sklearn.metrics import mean_absolute_error as mae\n",
    "\n",
    "print(mse(y_train, y_base, squared=False))\n",
    "print(mae(y_train, y_base))"
   ]
  },
  {
   "cell_type": "code",
   "execution_count": 47,
   "metadata": {
    "scrolled": false
   },
   "outputs": [
    {
     "name": "stdout",
     "output_type": "stream",
     "text": [
      "Confusion Matrix \n",
      " [[   5  252]\n",
      " [   6 1337]]\n",
      "Accuracy: 0.83875\n"
     ]
    }
   ],
   "source": [
    "#KNN Classification Model\n",
    "\n",
    "#Import knearest neighbors Classifier model\n",
    "from sklearn.neighbors import KNeighborsClassifier\n",
    "#Instantiate KNN Classifier\n",
    "knn = KNeighborsClassifier(algorithm='auto', leaf_size=30, metric='euclidean',\n",
    "                     metric_params=None, n_jobs=None, n_neighbors=27, p=2,\n",
    "                     weights='uniform')\n",
    "\n",
    "#Train the model using the training sets\n",
    "knn.fit(X_train, y_train)\n",
    "\n",
    "#Predict on val and train set\n",
    "y_val_predKNN = knn.predict(X_val)\n",
    "y_train_predKNN = knn.predict(X_train)"
   ]
  },
  {
   "cell_type": "code",
   "execution_count": 58,
   "metadata": {},
   "outputs": [
    {
     "name": "stdout",
     "output_type": "stream",
     "text": [
      "AUC: 0.51\n"
     ]
    }
   ],
   "source": [
    "#Evaluation - Import scikit-learn metrics module for accuracy calculation\n",
    "from sklearn import metrics\n",
    "from sklearn.metrics import roc_auc_score\n",
    "from sklearn.metrics import confusion_matrix\n",
    "\n",
    "# Print confusion matrix to evaluate classification accuracy\n",
    "cm_val = confusion_matrix(y_val, y_val_predKNN)\n",
    "print(\"Confusion Matrix \\n\", cm_val)\n",
    "\n",
    "# Model Accuracy, how often is the classifier correct?\n",
    "print(\"Accuracy:\",metrics.accuracy_score(y_val, y_val_predKNN))\n",
    "\n",
    "#AUC score\n",
    "knn_auc = roc_auc_score(y_val,y_val_predKNN)\n",
    "print('AUC: %.2f' % knn_auc)\n"
   ]
  },
  {
   "cell_type": "code",
   "execution_count": 59,
   "metadata": {},
   "outputs": [
    {
     "name": "stdout",
     "output_type": "stream",
     "text": [
      "0.4085033659592048\n",
      "0.166875\n"
     ]
    }
   ],
   "source": [
    "#Compare against baseline - worse in mse but better in mae\n",
    "print(mse(y_train, y_train_predKNN, squared=False))\n",
    "print(mae(y_train, y_train_predKNN))"
   ]
  },
  {
   "cell_type": "code",
   "execution_count": 48,
   "metadata": {},
   "outputs": [
    {
     "name": "stdout",
     "output_type": "stream",
     "text": [
      "[0.59259259 0.77777778 1.         ... 0.77777778 0.85185185 0.88888889]\n"
     ]
    }
   ],
   "source": [
    "#Predict on test set for submission\n",
    "y_test_predKNN = knn.predict_proba(testDF_cleaned)[:,1]\n",
    "print(y_test_predKNN)"
   ]
  },
  {
   "cell_type": "code",
   "execution_count": 49,
   "metadata": {},
   "outputs": [],
   "source": [
    "#Convert predictions to Kaggle submission format\n",
    "TestPredDF = pd.DataFrame(y_test_predKNN, columns =['Target_5Yrs'])\n",
    "TestPredDF.index.name = \"Id\"\n",
    "TestPredDF.to_csv('../data/interim/KNN_GridsearchAll.csv')"
   ]
  }
 ],
 "metadata": {
  "kernelspec": {
   "display_name": "Python 3",
   "language": "python",
   "name": "python3"
  },
  "language_info": {
   "codemirror_mode": {
    "name": "ipython",
    "version": 3
   },
   "file_extension": ".py",
   "mimetype": "text/x-python",
   "name": "python",
   "nbconvert_exporter": "python",
   "pygments_lexer": "ipython3",
   "version": "3.7.6"
  }
 },
 "nbformat": 4,
 "nbformat_minor": 4
}
