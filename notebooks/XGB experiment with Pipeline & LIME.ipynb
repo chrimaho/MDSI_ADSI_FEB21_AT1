{
 "cells": [
  {
   "cell_type": "code",
   "execution_count": 12,
   "metadata": {},
   "outputs": [],
   "source": [
    "#Import libraries and load data frame\n",
    "import pandas as pd\n",
    "import numpy as np\n",
    "from numpy import sort\n",
    "import xgboost as xgb\n",
    "from xgboost import XGBClassifier\n",
    "import lime\n",
    "from lime.lime_tabular import LimeTabularExplainer\n",
    "\n",
    "from joblib import dump\n",
    "\n",
    "from sklearn.pipeline import Pipeline\n",
    "from sklearn.impute import SimpleImputer\n",
    "from sklearn.preprocessing import StandardScaler\n",
    "from sklearn.model_selection import train_test_split\n",
    "from sklearn.metrics import accuracy_score, roc_auc_score, confusion_matrix, precision_score\n",
    "\n"
   ]
  },
  {
   "cell_type": "code",
   "execution_count": 13,
   "metadata": {},
   "outputs": [],
   "source": [
    "#Load data\n",
    "\n",
    "trainDF = pd.read_csv('../data/raw/train.csv')\n",
    "testDF = pd.read_csv('../data/raw/test.csv')\n",
    "\n",
    "#Remove Id columns as irrelevant and data cleaning such as make all columns absolute values\n",
    "\n",
    "trainDF_cleaned = trainDF.copy()\n",
    "trainDF_cleaned = trainDF_cleaned.abs()\n",
    "trainDF_cleaned.drop(['Id_old','Id'], axis=1, inplace=True)\n",
    "target = trainDF_cleaned.pop('TARGET_5Yrs')\n",
    "\n",
    "testDF_cleaned = testDF.copy()\n",
    "testDF_cleaned = testDF_cleaned.abs()\n",
    "testDF_cleaned.drop(['Id_old','Id'], axis=1, inplace=True)"
   ]
  },
  {
   "cell_type": "code",
   "execution_count": 33,
   "metadata": {},
   "outputs": [
    {
     "name": "stdout",
     "output_type": "stream",
     "text": [
      "<class 'pandas.core.frame.DataFrame'>\n",
      "RangeIndex: 8000 entries, 0 to 7999\n",
      "Data columns (total 19 columns):\n",
      " #   Column   Non-Null Count  Dtype  \n",
      "---  ------   --------------  -----  \n",
      " 0   GP       8000 non-null   float64\n",
      " 1   MIN      8000 non-null   float64\n",
      " 2   PTS      8000 non-null   float64\n",
      " 3   FGM      8000 non-null   float64\n",
      " 4   FGA      8000 non-null   float64\n",
      " 5   FG%      8000 non-null   float64\n",
      " 6   3P Made  8000 non-null   float64\n",
      " 7   3PA      8000 non-null   float64\n",
      " 8   3P%      8000 non-null   float64\n",
      " 9   FTM      8000 non-null   float64\n",
      " 10  FTA      8000 non-null   float64\n",
      " 11  FT%      8000 non-null   float64\n",
      " 12  OREB     8000 non-null   float64\n",
      " 13  DREB     8000 non-null   float64\n",
      " 14  REB      8000 non-null   float64\n",
      " 15  AST      8000 non-null   float64\n",
      " 16  STL      8000 non-null   float64\n",
      " 17  BLK      8000 non-null   float64\n",
      " 18  TOV      8000 non-null   float64\n",
      "dtypes: float64(19)\n",
      "memory usage: 1.2 MB\n"
     ]
    }
   ],
   "source": []
  },
  {
   "cell_type": "code",
   "execution_count": 14,
   "metadata": {},
   "outputs": [],
   "source": [
    "#Split data\n",
    "\n",
    "X_train, X_val, y_train, y_val = train_test_split (trainDF_cleaned, target, test_size=0.2, random_state=8)\n",
    "\n",
    "np.save('../data/processed/X_train', X_train)\n",
    "np.save('../data/processed/X_val',   X_val)\n",
    "\n",
    "np.save('../data/processed/y_train', y_train)\n",
    "np.save('../data/processed/y_val',   y_val)\n"
   ]
  },
  {
   "cell_type": "code",
   "execution_count": 34,
   "metadata": {},
   "outputs": [],
   "source": [
    "## REMOVE? Not that useful a score Define a cross validation function\n",
    "\n",
    "def cross_val(classifier, num_splits=10):\n",
    "    \n",
    "    # Initialize classifier\n",
    "    model = classifier\n",
    "\n",
    "    # Obtain scores of cross-validation\n",
    "    scores = cross_val_score(model, X, y, cv=num_splits)\n",
    "\n",
    "    # Display accuracy\n",
    "    print('Accuracy:', np.round(scores, 2))\n",
    "\n",
    "    # Display mean accuracy\n",
    "    print('Accuracy mean: %0.2f' % (scores.mean()))\n",
    "    "
   ]
  },
  {
   "cell_type": "code",
   "execution_count": 16,
   "metadata": {},
   "outputs": [],
   "source": [
    "#Build pipeline\n",
    "\n",
    "full_pipeline = Pipeline([('imputer', SimpleImputer()),  ('scaler', StandardScaler()),\n",
    "\n",
    "('xgb', XGBClassifier())])\n"
   ]
  },
  {
   "cell_type": "code",
   "execution_count": 17,
   "metadata": {},
   "outputs": [
    {
     "name": "stderr",
     "output_type": "stream",
     "text": [
      "/opt/anaconda3/lib/python3.7/site-packages/xgboost/sklearn.py:888: UserWarning: The use of label encoder in XGBClassifier is deprecated and will be removed in a future release. To remove this warning, do the following: 1) Pass option use_label_encoder=False when constructing XGBClassifier object; and 2) Encode your labels (y) as integers starting with 0, i.e. 0, 1, 2, ..., [num_class - 1].\n",
      "  warnings.warn(label_encoder_deprecation_msg, UserWarning)\n"
     ]
    },
    {
     "name": "stdout",
     "output_type": "stream",
     "text": [
      "[21:34:42] WARNING: /Users/travis/build/dmlc/xgboost/src/learner.cc:1061: Starting in XGBoost 1.3.0, the default evaluation metric used with the objective 'binary:logistic' was changed from 'error' to 'logloss'. Explicitly set eval_metric if you'd like to restore the old behavior.\n"
     ]
    }
   ],
   "source": [
    "# Fit and predict using pipeline\n",
    "\n",
    "xgb_model = full_pipeline.fit(X_train,y_train)\n",
    "pred_val = full_pipeline.predict(X_val)"
   ]
  },
  {
   "cell_type": "code",
   "execution_count": 31,
   "metadata": {},
   "outputs": [
    {
     "data": {
      "image/png": "[encoded data removed]",
      "text/plain": [
       "<Figure size 432x288 with 1 Axes>"
      ]
     },
     "execution_count": 31,
     "metadata": {},
     "output_type": "execute_result"
    },
    {
     "data": {
      "image/png": "[encoded data removed]",
      "text/plain": [
       "<Figure size 432x288 with 1 Axes>"
      ]
     },
     "metadata": {
      "needs_background": "light"
     },
     "output_type": "display_data"
    }
   ],
   "source": [
    "target_classes=[0, 1]\n",
    "\n",
    "lime_explainer = LimeTabularExplainer(X_train,\n",
    "      feature_names=trainDF_cleaned.columns,\n",
    "      class_names=target_classes,\n",
    "      mode='classification',\n",
    "      discretize_continuous=False\n",
    ")\n",
    "\n",
    "exp = lime_explainer.explain_instance(\n",
    "    X_val.iloc[0], \n",
    "    xgb_model.predict_proba, \n",
    "    top_labels=1,\n",
    "    num_features=20)\n",
    "\n",
    "exp.as_pyplot_figure()"
   ]
  },
  {
   "cell_type": "code",
   "execution_count": null,
   "metadata": {},
   "outputs": [],
   "source": [
    "#Optional: Parameter grid for pipeline\n",
    "\n",
    "##param1 = [,..]\n",
    "\n",
    "##param_grid = dict(xgb__paramname=param1, xbg__param2name=param2)"
   ]
  },
  {
   "cell_type": "code",
   "execution_count": 6,
   "metadata": {},
   "outputs": [
    {
     "ename": "NameError",
     "evalue": "name 'xgb' is not defined",
     "output_type": "error",
     "traceback": [
      "\u001b[0;31m---------------------------------------------------------------------------\u001b[0m",
      "\u001b[0;31mNameError\u001b[0m                                 Traceback (most recent call last)",
      "\u001b[0;32m<ipython-input-6-58351170af56>\u001b[0m in \u001b[0;36m<module>\u001b[0;34m\u001b[0m\n\u001b[0;32m----> 1\u001b[0;31m \u001b[0mcross_val\u001b[0m\u001b[0;34m(\u001b[0m\u001b[0mxgb\u001b[0m\u001b[0;34m(\u001b[0m\u001b[0mn_estimators\u001b[0m\u001b[0;34m=\u001b[0m\u001b[0;36m5\u001b[0m\u001b[0;34m)\u001b[0m\u001b[0;34m)\u001b[0m\u001b[0;34m\u001b[0m\u001b[0;34m\u001b[0m\u001b[0m\n\u001b[0m",
      "\u001b[0;31mNameError\u001b[0m: name 'xgb' is not defined"
     ]
    }
   ],
   "source": [
    "cross_val(xgb(n_estimators=5))"
   ]
  },
  {
   "cell_type": "code",
   "execution_count": 13,
   "metadata": {},
   "outputs": [
    {
     "name": "stdout",
     "output_type": "stream",
     "text": [
      "Confusion Matrix \n",
      " [[   8  249]\n",
      " [  22 1321]]\n",
      "Accuracy: 0.830625\n",
      "AUC: 0.51\n"
     ]
    }
   ],
   "source": [
    "# Print confusion matrix to evaluate classification accuracy\n",
    "cm_val = confusion_matrix(y_val, pred_val)\n",
    "print(\"Confusion Matrix \\n\", cm_val)\n",
    "\n",
    "\n",
    "# Model Accuracy, how often is the classifier correct?\n",
    "print(\"Accuracy:\",accuracy_score(y_val, pred_val))\n",
    "\n",
    "#AUC score\n",
    "auc_val = roc_auc_score(y_val,pred_val)\n",
    "print('AUC: %.2f' % auc_val)"
   ]
  },
  {
   "cell_type": "code",
   "execution_count": null,
   "metadata": {},
   "outputs": [],
   "source": []
  }
 ],
 "metadata": {
  "kernelspec": {
   "display_name": "Python 3",
   "language": "python",
   "name": "python3"
  },
  "language_info": {
   "codemirror_mode": {
    "name": "ipython",
    "version": 3
   },
   "file_extension": ".py",
   "mimetype": "text/x-python",
   "name": "python",
   "nbconvert_exporter": "python",
   "pygments_lexer": "ipython3",
   "version": "3.7.6"
  }
 },
 "nbformat": 4,
 "nbformat_minor": 4
}
