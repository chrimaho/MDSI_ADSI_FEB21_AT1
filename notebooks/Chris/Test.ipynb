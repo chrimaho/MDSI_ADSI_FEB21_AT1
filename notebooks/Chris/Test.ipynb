{
 "cells": [
  {
   "source": [
    "# Initial Experimentation"
   ],
   "cell_type": "markdown",
   "metadata": {}
  },
  {
   "source": [
    "## Set up Environment"
   ],
   "cell_type": "markdown",
   "metadata": {}
  },
  {
   "cell_type": "code",
   "execution_count": 2,
   "metadata": {},
   "outputs": [
    {
     "output_type": "stream",
     "name": "stdout",
     "text": [
      "1.2.0\n"
     ]
    }
   ],
   "source": [
    "!python -c \"import pandas as pd; print(pd.__version__)\""
   ]
  },
  {
   "cell_type": "code",
   "execution_count": 4,
   "metadata": {},
   "outputs": [
    {
     "output_type": "stream",
     "name": "stdout",
     "text": [
      "Name: pandas-profiling\nVersion: 2.10.0\nSummary: Generate profile report for pandas DataFrame\nHome-page: https://github.com/pandas-profiling/pandas-profiling\nAuthor: Simon Brugman\nAuthor-email: pandasprofiling@gmail.com\nLicense: MIT\nLocation: c:\\users\\chris\\.virtualenvs\\mdsi_adsi_feb21_at1-plgyd_hx\\lib\\site-packages\nRequires: joblib, matplotlib, jinja2, visions, scipy, pandas, missingno, phik, tangled-up-in-unicode, confuse, ipywidgets, htmlmin, seaborn, tqdm, requests, attrs, numpy\nRequired-by: \n"
     ]
    }
   ],
   "source": [
    "!pip show pandas-profiling"
   ]
  },
  {
   "cell_type": "code",
   "execution_count": 5,
   "metadata": {},
   "outputs": [],
   "source": [
    "import os\n",
    "import zipfile\n",
    "import sklearn\n",
    "import pandas as pd\n",
    "import numpy as np\n",
    "from pandas_profiling import ProfileReport"
   ]
  },
  {
   "source": [
    "## Get Data"
   ],
   "cell_type": "markdown",
   "metadata": {}
  },
  {
   "cell_type": "code",
   "execution_count": 2,
   "metadata": {},
   "outputs": [],
   "source": [
    "# Use bash to get data from kaggle\n",
    "!kaggle competitions download -c uts-advdsi-nba-career-prediction --path ../../data/raw --force --quiet\n",
    "\n",
    "# Unzip the data\n",
    "with zipfile.ZipFile(\"../../data/raw/uts-advdsi-nba-career-prediction.zip\", \"r\") as z:\n",
    "    z.extractall(\"../../data/raw\")\n",
    "\n",
    "\n",
    "# Delete the zip file\n",
    "if os.path.exists(\"../../data/raw/uts-advdsi-nba-career-prediction.zip\"):\n",
    "    os.remove(\"../../data/raw/uts-advdsi-nba-career-prediction.zip\")"
   ]
  },
  {
   "source": [
    "# Turn off table squishing\n",
    "pd.options.display.max_columns = None\n",
    "\n",
    "# Import data\n",
    "data = pd.read_csv(\"../../data/raw/train.csv\")\n",
    "\n",
    "# Check data\n",
    "# print(data.columns)\n",
    "display(data)"
   ],
   "cell_type": "code",
   "metadata": {},
   "execution_count": 21,
   "outputs": [
    {
     "output_type": "display_data",
     "data": {
      "text/plain": "         Id  GP   MIN   PTS  FGM  FGA   FG%  3P Made  3PA   3P%  FTM  FTA  \\\n0     10556  80  24.3   7.8  3.0  6.4  45.7      0.1  0.3  22.6  2.0  2.9   \n1      5342  75  21.8  10.5  4.2  7.9  55.1     -0.3 -1.0  34.9  2.4  3.6   \n2      5716  85  19.1   4.5  1.9  4.5  42.8      0.4  1.2  34.3  0.4  0.6   \n3     13790  63  19.1   8.2  3.5  6.7  52.5      0.3  0.8  23.7  0.9  1.5   \n4      5470  63  17.8   3.7  1.7  3.4  50.8      0.5  1.4  13.7  0.2  0.5   \n...     ...  ..   ...   ...  ...  ...   ...      ...  ...   ...  ...  ...   \n7995   2996  32   9.2   1.8  0.7  1.8  40.3     -0.1 -0.2  23.1  0.4  0.6   \n7996  11679  54   6.0   1.8  0.7  1.4  48.7      0.1  0.1   3.1  0.2  0.4   \n7997   5537  85  28.2  10.7  4.0  9.0  45.1      0.2  0.6  23.6  2.8  3.9   \n7998   1292  39   7.7   2.5  1.0  2.3  40.1     -0.3 -0.5  13.3  0.6  0.7   \n7999   2900  49  19.2   4.8  1.7  5.1  32.6      0.7  2.4  41.3  0.8  1.3   \n\n       FT%  OREB  DREB  REB  AST  STL  BLK  TOV  TARGET_5Yrs  \n0     72.1   2.2   2.0  3.8  3.2  1.1  0.2  1.6            1  \n1     67.8   3.6   3.7  6.6  0.7  0.5  0.6  1.4            1  \n2     75.7   0.6   1.8  2.4  0.8  0.4  0.2  0.6            1  \n3     66.9   0.8   2.0  3.0  1.8  0.4  0.1  1.9            1  \n4     54.0   2.4   2.7  4.9  0.4  0.4  0.6  0.7            1  \n...    ...   ...   ...  ...  ...  ...  ...  ...          ...  \n7995  65.7   0.3   1.8  1.9  0.5  0.3  0.2  0.4            1  \n7996  70.1   1.0   1.1  2.0  0.1  0.0  0.3  0.3            1  \n7997  69.7   1.0   2.1  3.1  3.4  1.2  0.2  1.8            1  \n7998  74.3   0.4   0.6  0.9  0.2  0.3  0.3  0.5            1  \n7999  70.1   0.1   1.1  1.2  3.5  0.9 -0.3  1.4            1  \n\n[8000 rows x 21 columns]",
      "text/html": "<div>\n<style scoped>\n    .dataframe tbody tr th:only-of-type {\n        vertical-align: middle;\n    }\n\n    .dataframe tbody tr th {\n        vertical-align: top;\n    }\n\n    .dataframe thead th {\n        text-align: right;\n    }\n</style>\n<table border=\"1\" class=\"dataframe\">\n  <thead>\n    <tr style=\"text-align: right;\">\n      <th></th>\n      <th>Id</th>\n      <th>GP</th>\n      <th>MIN</th>\n      <th>PTS</th>\n      <th>FGM</th>\n      <th>FGA</th>\n      <th>FG%</th>\n      <th>3P Made</th>\n      <th>3PA</th>\n      <th>3P%</th>\n      <th>FTM</th>\n      <th>FTA</th>\n      <th>FT%</th>\n      <th>OREB</th>\n      <th>DREB</th>\n      <th>REB</th>\n      <th>AST</th>\n      <th>STL</th>\n      <th>BLK</th>\n      <th>TOV</th>\n      <th>TARGET_5Yrs</th>\n    </tr>\n  </thead>\n  <tbody>\n    <tr>\n      <th>0</th>\n      <td>10556</td>\n      <td>80</td>\n      <td>24.3</td>\n      <td>7.8</td>\n      <td>3.0</td>\n      <td>6.4</td>\n      <td>45.7</td>\n      <td>0.1</td>\n      <td>0.3</td>\n      <td>22.6</td>\n      <td>2.0</td>\n      <td>2.9</td>\n      <td>72.1</td>\n      <td>2.2</td>\n      <td>2.0</td>\n      <td>3.8</td>\n      <td>3.2</td>\n      <td>1.1</td>\n      <td>0.2</td>\n      <td>1.6</td>\n      <td>1</td>\n    </tr>\n    <tr>\n      <th>1</th>\n      <td>5342</td>\n      <td>75</td>\n      <td>21.8</td>\n      <td>10.5</td>\n      <td>4.2</td>\n      <td>7.9</td>\n      <td>55.1</td>\n      <td>-0.3</td>\n      <td>-1.0</td>\n      <td>34.9</td>\n      <td>2.4</td>\n      <td>3.6</td>\n      <td>67.8</td>\n      <td>3.6</td>\n      <td>3.7</td>\n      <td>6.6</td>\n      <td>0.7</td>\n      <td>0.5</td>\n      <td>0.6</td>\n      <td>1.4</td>\n      <td>1</td>\n    </tr>\n    <tr>\n      <th>2</th>\n      <td>5716</td>\n      <td>85</td>\n      <td>19.1</td>\n      <td>4.5</td>\n      <td>1.9</td>\n      <td>4.5</td>\n      <td>42.8</td>\n      <td>0.4</td>\n      <td>1.2</td>\n      <td>34.3</td>\n      <td>0.4</td>\n      <td>0.6</td>\n      <td>75.7</td>\n      <td>0.6</td>\n      <td>1.8</td>\n      <td>2.4</td>\n      <td>0.8</td>\n      <td>0.4</td>\n      <td>0.2</td>\n      <td>0.6</td>\n      <td>1</td>\n    </tr>\n    <tr>\n      <th>3</th>\n      <td>13790</td>\n      <td>63</td>\n      <td>19.1</td>\n      <td>8.2</td>\n      <td>3.5</td>\n      <td>6.7</td>\n      <td>52.5</td>\n      <td>0.3</td>\n      <td>0.8</td>\n      <td>23.7</td>\n      <td>0.9</td>\n      <td>1.5</td>\n      <td>66.9</td>\n      <td>0.8</td>\n      <td>2.0</td>\n      <td>3.0</td>\n      <td>1.8</td>\n      <td>0.4</td>\n      <td>0.1</td>\n      <td>1.9</td>\n      <td>1</td>\n    </tr>\n    <tr>\n      <th>4</th>\n      <td>5470</td>\n      <td>63</td>\n      <td>17.8</td>\n      <td>3.7</td>\n      <td>1.7</td>\n      <td>3.4</td>\n      <td>50.8</td>\n      <td>0.5</td>\n      <td>1.4</td>\n      <td>13.7</td>\n      <td>0.2</td>\n      <td>0.5</td>\n      <td>54.0</td>\n      <td>2.4</td>\n      <td>2.7</td>\n      <td>4.9</td>\n      <td>0.4</td>\n      <td>0.4</td>\n      <td>0.6</td>\n      <td>0.7</td>\n      <td>1</td>\n    </tr>\n    <tr>\n      <th>...</th>\n      <td>...</td>\n      <td>...</td>\n      <td>...</td>\n      <td>...</td>\n      <td>...</td>\n      <td>...</td>\n      <td>...</td>\n      <td>...</td>\n      <td>...</td>\n      <td>...</td>\n      <td>...</td>\n      <td>...</td>\n      <td>...</td>\n      <td>...</td>\n      <td>...</td>\n      <td>...</td>\n      <td>...</td>\n      <td>...</td>\n      <td>...</td>\n      <td>...</td>\n      <td>...</td>\n    </tr>\n    <tr>\n      <th>7995</th>\n      <td>2996</td>\n      <td>32</td>\n      <td>9.2</td>\n      <td>1.8</td>\n      <td>0.7</td>\n      <td>1.8</td>\n      <td>40.3</td>\n      <td>-0.1</td>\n      <td>-0.2</td>\n      <td>23.1</td>\n      <td>0.4</td>\n      <td>0.6</td>\n      <td>65.7</td>\n      <td>0.3</td>\n      <td>1.8</td>\n      <td>1.9</td>\n      <td>0.5</td>\n      <td>0.3</td>\n      <td>0.2</td>\n      <td>0.4</td>\n      <td>1</td>\n    </tr>\n    <tr>\n      <th>7996</th>\n      <td>11679</td>\n      <td>54</td>\n      <td>6.0</td>\n      <td>1.8</td>\n      <td>0.7</td>\n      <td>1.4</td>\n      <td>48.7</td>\n      <td>0.1</td>\n      <td>0.1</td>\n      <td>3.1</td>\n      <td>0.2</td>\n      <td>0.4</td>\n      <td>70.1</td>\n      <td>1.0</td>\n      <td>1.1</td>\n      <td>2.0</td>\n      <td>0.1</td>\n      <td>0.0</td>\n      <td>0.3</td>\n      <td>0.3</td>\n      <td>1</td>\n    </tr>\n    <tr>\n      <th>7997</th>\n      <td>5537</td>\n      <td>85</td>\n      <td>28.2</td>\n      <td>10.7</td>\n      <td>4.0</td>\n      <td>9.0</td>\n      <td>45.1</td>\n      <td>0.2</td>\n      <td>0.6</td>\n      <td>23.6</td>\n      <td>2.8</td>\n      <td>3.9</td>\n      <td>69.7</td>\n      <td>1.0</td>\n      <td>2.1</td>\n      <td>3.1</td>\n      <td>3.4</td>\n      <td>1.2</td>\n      <td>0.2</td>\n      <td>1.8</td>\n      <td>1</td>\n    </tr>\n    <tr>\n      <th>7998</th>\n      <td>1292</td>\n      <td>39</td>\n      <td>7.7</td>\n      <td>2.5</td>\n      <td>1.0</td>\n      <td>2.3</td>\n      <td>40.1</td>\n      <td>-0.3</td>\n      <td>-0.5</td>\n      <td>13.3</td>\n      <td>0.6</td>\n      <td>0.7</td>\n      <td>74.3</td>\n      <td>0.4</td>\n      <td>0.6</td>\n      <td>0.9</td>\n      <td>0.2</td>\n      <td>0.3</td>\n      <td>0.3</td>\n      <td>0.5</td>\n      <td>1</td>\n    </tr>\n    <tr>\n      <th>7999</th>\n      <td>2900</td>\n      <td>49</td>\n      <td>19.2</td>\n      <td>4.8</td>\n      <td>1.7</td>\n      <td>5.1</td>\n      <td>32.6</td>\n      <td>0.7</td>\n      <td>2.4</td>\n      <td>41.3</td>\n      <td>0.8</td>\n      <td>1.3</td>\n      <td>70.1</td>\n      <td>0.1</td>\n      <td>1.1</td>\n      <td>1.2</td>\n      <td>3.5</td>\n      <td>0.9</td>\n      <td>-0.3</td>\n      <td>1.4</td>\n      <td>1</td>\n    </tr>\n  </tbody>\n</table>\n<p>8000 rows × 21 columns</p>\n</div>"
     },
     "metadata": {}
    }
   ]
  },
  {
   "source": [
    "## Check Data"
   ],
   "cell_type": "markdown",
   "metadata": {}
  },
  {
   "cell_type": "code",
   "execution_count": 26,
   "metadata": {},
   "outputs": [
    {
     "output_type": "stream",
     "name": "stderr",
     "text": [
      "variables: 100%|██████████| 21/21 [00:02<00:00,  8.57it/s]\n",
      "correlations [recoded]: 100%|██████████| 6/6 [00:04<00:00,  1.27it/s]\n",
      "interactions [continuous]: 100%|██████████| 400/400 [00:57<00:00,  6.98it/s]\n",
      "table: 100%|██████████| 1/1 [00:00<00:00, 26.32it/s]\n",
      "missing [matrix]: 100%|██████████| 2/2 [00:00<00:00,  2.28it/s]\n",
      "warnings [correlations]: 100%|██████████| 3/3 [00:00<00:00, 272.66it/s]\n",
      "package: 100%|██████████| 1/1 [00:00<00:00, 62.50it/s]\n",
      "build report structure: 100%|██████████| 1/1 [00:10<00:00, 10.92s/it]\n"
     ]
    }
   ],
   "source": [
    "# Create profile report\n",
    "profile = ProfileReport(data, title=\"Profile Report\")"
   ]
  },
  {
   "cell_type": "code",
   "execution_count": 29,
   "metadata": {},
   "outputs": [],
   "source": [
    "# Export\n",
    "profile.to_file(\"InitialReport.html\")\n",
    "\n",
    "# View\n",
    "profile"
   ]
  },
  {
   "cell_type": "code",
   "execution_count": null,
   "metadata": {},
   "outputs": [],
   "source": []
  },
  {
   "cell_type": "code",
   "execution_count": null,
   "metadata": {},
   "outputs": [],
   "source": []
  },
  {
   "cell_type": "code",
   "execution_count": null,
   "metadata": {},
   "outputs": [],
   "source": []
  },
  {
   "cell_type": "code",
   "execution_count": null,
   "metadata": {},
   "outputs": [],
   "source": []
  },
  {
   "cell_type": "code",
   "execution_count": null,
   "metadata": {},
   "outputs": [],
   "source": []
  }
 ],
 "metadata": {
  "kernelspec": {
   "name": "python3",
   "display_name": "Python 3.7.6 64-bit ('MDSI_ADSI_FEB21_AT1-pLgYd_Hx')",
   "metadata": {
    "interpreter": {
     "hash": "fafea795aae1c4fdb0815e882261952b9ade3869b32f39a66af31a64419afd35"
    }
   }
  },
  "language_info": {
   "codemirror_mode": {
    "name": "ipython",
    "version": 3
   },
   "file_extension": ".py",
   "mimetype": "text/x-python",
   "name": "python",
   "nbconvert_exporter": "python",
   "pygments_lexer": "ipython3",
   "version": "3.7.6-final"
  }
 },
 "nbformat": 4,
 "nbformat_minor": 4
}