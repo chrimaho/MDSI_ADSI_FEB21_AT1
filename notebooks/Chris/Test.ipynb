{
 "cells": [
  {
   "cell_type": "markdown",
   "metadata": {},
   "source": [
    "# Initial Experimentation"
   ]
  },
  {
   "cell_type": "markdown",
   "metadata": {},
   "source": [
    "## Set up Environment"
   ]
  },
  {
   "cell_type": "code",
   "execution_count": 1,
   "metadata": {},
   "outputs": [
    {
     "output_type": "stream",
     "name": "stdout",
     "text": [
      "1.2.0\n"
     ]
    }
   ],
   "source": [
    "!python -c \"import pandas as pd; print(pd.__version__)\""
   ]
  },
  {
   "cell_type": "code",
   "execution_count": 2,
   "metadata": {},
   "outputs": [
    {
     "output_type": "stream",
     "name": "stdout",
     "text": [
      "Name: scipy\nVersion: 1.6.0\nSummary: SciPy: Scientific Library for Python\nHome-page: https://www.scipy.org\nAuthor: None\nAuthor-email: None\nLicense: BSD\nLocation: c:\\users\\chris\\.virtualenvs\\mdsi_adsi_feb21_at1-1qc6rzga\\lib\\site-packages\nRequires: numpy\nRequired-by: seaborn, scikit-learn, phik, pandas-profiling, missingno, ImageHash\n"
     ]
    }
   ],
   "source": [
    "!pip show scipy"
   ]
  },
  {
   "cell_type": "code",
   "execution_count": 3,
   "metadata": {},
   "outputs": [],
   "source": [
    "import os\n",
    "import sys\n",
    "import zipfile\n",
    "import sklearn\n",
    "import pandas as pd\n",
    "import numpy as np\n",
    "from joblib import dump\n",
    "from joblib import load\n",
    "from pprint import pprint\n",
    "from pandas_profiling import ProfileReport\n",
    "from IPython.display import IFrame\n",
    "\n",
    "# Add current project to Python Sys Path\n",
    "if not os.path.abspath(\"../..\") in sys.path:\n",
    "    sys.path.append(os.path.abspath(\"../..\"))\n",
    "else:\n",
    "    sys.path.remove(os.path.abspath(\"../..\"))\n",
    "    sys.path.append(os.path.abspath(\"../..\"))"
   ]
  },
  {
   "cell_type": "markdown",
   "metadata": {},
   "source": [
    "## Get Data"
   ]
  },
  {
   "cell_type": "code",
   "execution_count": 4,
   "metadata": {},
   "outputs": [],
   "source": [
    "# Check & Create directories\n",
    "for dir in [\"../../data/processed/Chris\", \"../../models/Chris\"]:\n",
    "    if not os.path.exists(dir): os.mkdir(dir)"
   ]
  },
  {
   "cell_type": "code",
   "execution_count": 5,
   "metadata": {},
   "outputs": [
    {
     "output_type": "stream",
     "name": "stdout",
     "text": [
      "name                    size  creationDate         \n---------------------  -----  -------------------  \nsample_submission.csv  107KB  2021-01-19 10:15:06  \ntrain.csv              679KB  2021-01-19 10:15:06  \ntest.csv               315KB  2021-01-19 10:15:06  \n"
     ]
    }
   ],
   "source": [
    "# Use bash to get data from kaggle\n",
    "!kaggle competitions files -c uts-advdsi-nba-career-prediction\n",
    "!kaggle competitions download -c uts-advdsi-nba-career-prediction --path ../../data/raw --force --quiet\n",
    "\n",
    "# Unzip the data\n",
    "with zipfile.ZipFile(\"../../data/raw/uts-advdsi-nba-career-prediction.zip\", \"r\") as z:\n",
    "    z.extractall(\"../../data/raw\")\n",
    "\n",
    "\n",
    "# Delete the zip file\n",
    "if os.path.exists(\"../../data/raw/uts-advdsi-nba-career-prediction.zip\"):\n",
    "    os.remove(\"../../data/raw/uts-advdsi-nba-career-prediction.zip\")"
   ]
  },
  {
   "cell_type": "code",
   "execution_count": 6,
   "metadata": {},
   "outputs": [
    {
     "output_type": "display_data",
     "data": {
      "text/plain": "         Id  GP   MIN   PTS  FGM  FGA   FG%  3P Made  3PA   3P%  FTM  FTA  \\\n0     10556  80  24.3   7.8  3.0  6.4  45.7      0.1  0.3  22.6  2.0  2.9   \n1      5342  75  21.8  10.5  4.2  7.9  55.1     -0.3 -1.0  34.9  2.4  3.6   \n2      5716  85  19.1   4.5  1.9  4.5  42.8      0.4  1.2  34.3  0.4  0.6   \n3     13790  63  19.1   8.2  3.5  6.7  52.5      0.3  0.8  23.7  0.9  1.5   \n4      5470  63  17.8   3.7  1.7  3.4  50.8      0.5  1.4  13.7  0.2  0.5   \n...     ...  ..   ...   ...  ...  ...   ...      ...  ...   ...  ...  ...   \n7995   2996  32   9.2   1.8  0.7  1.8  40.3     -0.1 -0.2  23.1  0.4  0.6   \n7996  11679  54   6.0   1.8  0.7  1.4  48.7      0.1  0.1   3.1  0.2  0.4   \n7997   5537  85  28.2  10.7  4.0  9.0  45.1      0.2  0.6  23.6  2.8  3.9   \n7998   1292  39   7.7   2.5  1.0  2.3  40.1     -0.3 -0.5  13.3  0.6  0.7   \n7999   2900  49  19.2   4.8  1.7  5.1  32.6      0.7  2.4  41.3  0.8  1.3   \n\n       FT%  OREB  DREB  REB  AST  STL  BLK  TOV  TARGET_5Yrs  \n0     72.1   2.2   2.0  3.8  3.2  1.1  0.2  1.6            1  \n1     67.8   3.6   3.7  6.6  0.7  0.5  0.6  1.4            1  \n2     75.7   0.6   1.8  2.4  0.8  0.4  0.2  0.6            1  \n3     66.9   0.8   2.0  3.0  1.8  0.4  0.1  1.9            1  \n4     54.0   2.4   2.7  4.9  0.4  0.4  0.6  0.7            1  \n...    ...   ...   ...  ...  ...  ...  ...  ...          ...  \n7995  65.7   0.3   1.8  1.9  0.5  0.3  0.2  0.4            1  \n7996  70.1   1.0   1.1  2.0  0.1  0.0  0.3  0.3            1  \n7997  69.7   1.0   2.1  3.1  3.4  1.2  0.2  1.8            1  \n7998  74.3   0.4   0.6  0.9  0.2  0.3  0.3  0.5            1  \n7999  70.1   0.1   1.1  1.2  3.5  0.9 -0.3  1.4            1  \n\n[8000 rows x 21 columns]",
      "text/html": "<div>\n<style scoped>\n    .dataframe tbody tr th:only-of-type {\n        vertical-align: middle;\n    }\n\n    .dataframe tbody tr th {\n        vertical-align: top;\n    }\n\n    .dataframe thead th {\n        text-align: right;\n    }\n</style>\n<table border=\"1\" class=\"dataframe\">\n  <thead>\n    <tr style=\"text-align: right;\">\n      <th></th>\n      <th>Id</th>\n      <th>GP</th>\n      <th>MIN</th>\n      <th>PTS</th>\n      <th>FGM</th>\n      <th>FGA</th>\n      <th>FG%</th>\n      <th>3P Made</th>\n      <th>3PA</th>\n      <th>3P%</th>\n      <th>FTM</th>\n      <th>FTA</th>\n      <th>FT%</th>\n      <th>OREB</th>\n      <th>DREB</th>\n      <th>REB</th>\n      <th>AST</th>\n      <th>STL</th>\n      <th>BLK</th>\n      <th>TOV</th>\n      <th>TARGET_5Yrs</th>\n    </tr>\n  </thead>\n  <tbody>\n    <tr>\n      <th>0</th>\n      <td>10556</td>\n      <td>80</td>\n      <td>24.3</td>\n      <td>7.8</td>\n      <td>3.0</td>\n      <td>6.4</td>\n      <td>45.7</td>\n      <td>0.1</td>\n      <td>0.3</td>\n      <td>22.6</td>\n      <td>2.0</td>\n      <td>2.9</td>\n      <td>72.1</td>\n      <td>2.2</td>\n      <td>2.0</td>\n      <td>3.8</td>\n      <td>3.2</td>\n      <td>1.1</td>\n      <td>0.2</td>\n      <td>1.6</td>\n      <td>1</td>\n    </tr>\n    <tr>\n      <th>1</th>\n      <td>5342</td>\n      <td>75</td>\n      <td>21.8</td>\n      <td>10.5</td>\n      <td>4.2</td>\n      <td>7.9</td>\n      <td>55.1</td>\n      <td>-0.3</td>\n      <td>-1.0</td>\n      <td>34.9</td>\n      <td>2.4</td>\n      <td>3.6</td>\n      <td>67.8</td>\n      <td>3.6</td>\n      <td>3.7</td>\n      <td>6.6</td>\n      <td>0.7</td>\n      <td>0.5</td>\n      <td>0.6</td>\n      <td>1.4</td>\n      <td>1</td>\n    </tr>\n    <tr>\n      <th>2</th>\n      <td>5716</td>\n      <td>85</td>\n      <td>19.1</td>\n      <td>4.5</td>\n      <td>1.9</td>\n      <td>4.5</td>\n      <td>42.8</td>\n      <td>0.4</td>\n      <td>1.2</td>\n      <td>34.3</td>\n      <td>0.4</td>\n      <td>0.6</td>\n      <td>75.7</td>\n      <td>0.6</td>\n      <td>1.8</td>\n      <td>2.4</td>\n      <td>0.8</td>\n      <td>0.4</td>\n      <td>0.2</td>\n      <td>0.6</td>\n      <td>1</td>\n    </tr>\n    <tr>\n      <th>3</th>\n      <td>13790</td>\n      <td>63</td>\n      <td>19.1</td>\n      <td>8.2</td>\n      <td>3.5</td>\n      <td>6.7</td>\n      <td>52.5</td>\n      <td>0.3</td>\n      <td>0.8</td>\n      <td>23.7</td>\n      <td>0.9</td>\n      <td>1.5</td>\n      <td>66.9</td>\n      <td>0.8</td>\n      <td>2.0</td>\n      <td>3.0</td>\n      <td>1.8</td>\n      <td>0.4</td>\n      <td>0.1</td>\n      <td>1.9</td>\n      <td>1</td>\n    </tr>\n    <tr>\n      <th>4</th>\n      <td>5470</td>\n      <td>63</td>\n      <td>17.8</td>\n      <td>3.7</td>\n      <td>1.7</td>\n      <td>3.4</td>\n      <td>50.8</td>\n      <td>0.5</td>\n      <td>1.4</td>\n      <td>13.7</td>\n      <td>0.2</td>\n      <td>0.5</td>\n      <td>54.0</td>\n      <td>2.4</td>\n      <td>2.7</td>\n      <td>4.9</td>\n      <td>0.4</td>\n      <td>0.4</td>\n      <td>0.6</td>\n      <td>0.7</td>\n      <td>1</td>\n    </tr>\n    <tr>\n      <th>...</th>\n      <td>...</td>\n      <td>...</td>\n      <td>...</td>\n      <td>...</td>\n      <td>...</td>\n      <td>...</td>\n      <td>...</td>\n      <td>...</td>\n      <td>...</td>\n      <td>...</td>\n      <td>...</td>\n      <td>...</td>\n      <td>...</td>\n      <td>...</td>\n      <td>...</td>\n      <td>...</td>\n      <td>...</td>\n      <td>...</td>\n      <td>...</td>\n      <td>...</td>\n      <td>...</td>\n    </tr>\n    <tr>\n      <th>7995</th>\n      <td>2996</td>\n      <td>32</td>\n      <td>9.2</td>\n      <td>1.8</td>\n      <td>0.7</td>\n      <td>1.8</td>\n      <td>40.3</td>\n      <td>-0.1</td>\n      <td>-0.2</td>\n      <td>23.1</td>\n      <td>0.4</td>\n      <td>0.6</td>\n      <td>65.7</td>\n      <td>0.3</td>\n      <td>1.8</td>\n      <td>1.9</td>\n      <td>0.5</td>\n      <td>0.3</td>\n      <td>0.2</td>\n      <td>0.4</td>\n      <td>1</td>\n    </tr>\n    <tr>\n      <th>7996</th>\n      <td>11679</td>\n      <td>54</td>\n      <td>6.0</td>\n      <td>1.8</td>\n      <td>0.7</td>\n      <td>1.4</td>\n      <td>48.7</td>\n      <td>0.1</td>\n      <td>0.1</td>\n      <td>3.1</td>\n      <td>0.2</td>\n      <td>0.4</td>\n      <td>70.1</td>\n      <td>1.0</td>\n      <td>1.1</td>\n      <td>2.0</td>\n      <td>0.1</td>\n      <td>0.0</td>\n      <td>0.3</td>\n      <td>0.3</td>\n      <td>1</td>\n    </tr>\n    <tr>\n      <th>7997</th>\n      <td>5537</td>\n      <td>85</td>\n      <td>28.2</td>\n      <td>10.7</td>\n      <td>4.0</td>\n      <td>9.0</td>\n      <td>45.1</td>\n      <td>0.2</td>\n      <td>0.6</td>\n      <td>23.6</td>\n      <td>2.8</td>\n      <td>3.9</td>\n      <td>69.7</td>\n      <td>1.0</td>\n      <td>2.1</td>\n      <td>3.1</td>\n      <td>3.4</td>\n      <td>1.2</td>\n      <td>0.2</td>\n      <td>1.8</td>\n      <td>1</td>\n    </tr>\n    <tr>\n      <th>7998</th>\n      <td>1292</td>\n      <td>39</td>\n      <td>7.7</td>\n      <td>2.5</td>\n      <td>1.0</td>\n      <td>2.3</td>\n      <td>40.1</td>\n      <td>-0.3</td>\n      <td>-0.5</td>\n      <td>13.3</td>\n      <td>0.6</td>\n      <td>0.7</td>\n      <td>74.3</td>\n      <td>0.4</td>\n      <td>0.6</td>\n      <td>0.9</td>\n      <td>0.2</td>\n      <td>0.3</td>\n      <td>0.3</td>\n      <td>0.5</td>\n      <td>1</td>\n    </tr>\n    <tr>\n      <th>7999</th>\n      <td>2900</td>\n      <td>49</td>\n      <td>19.2</td>\n      <td>4.8</td>\n      <td>1.7</td>\n      <td>5.1</td>\n      <td>32.6</td>\n      <td>0.7</td>\n      <td>2.4</td>\n      <td>41.3</td>\n      <td>0.8</td>\n      <td>1.3</td>\n      <td>70.1</td>\n      <td>0.1</td>\n      <td>1.1</td>\n      <td>1.2</td>\n      <td>3.5</td>\n      <td>0.9</td>\n      <td>-0.3</td>\n      <td>1.4</td>\n      <td>1</td>\n    </tr>\n  </tbody>\n</table>\n<p>8000 rows × 21 columns</p>\n</div>"
     },
     "metadata": {}
    }
   ],
   "source": [
    "# Turn off table squishing\n",
    "pd.options.display.max_columns = None\n",
    "\n",
    "# Import data\n",
    "data = pd.read_csv(\"../../data/raw/train.csv\")\n",
    "\n",
    "# Check data\n",
    "# print(data.columns)\n",
    "display(data)"
   ]
  },
  {
   "cell_type": "code",
   "execution_count": 7,
   "metadata": {},
   "outputs": [
    {
     "output_type": "stream",
     "name": "stdout",
     "text": [
      "Index(['Id', 'GP', 'MIN', 'PTS', 'FGM', 'FGA', 'FG%', '3P Made', '3PA', '3P%',\n       'FTM', 'FTA', 'FT%', 'OREB', 'DREB', 'REB', 'AST', 'STL', 'BLK', 'TOV',\n       'TARGET_5Yrs'],\n      dtype='object')\nIndex(['Id', 'GP', 'MIN', 'PTS', 'FGM', 'FGA', 'FG%', '3P_Made', '3PA', '3P%',\n       'FTM', 'FTA', 'FT%', 'OREB', 'DREB', 'REB', 'AST', 'STL', 'BLK', 'TOV',\n       'TARGET_5Yrs'],\n      dtype='object')\n"
     ]
    }
   ],
   "source": [
    "# Fix column names\n",
    "print(data.columns)\n",
    "data.columns = data.columns.str.replace(' ', '_')\n",
    "print(data.columns)\n",
    "\n",
    "# Save training data again\n",
    "data.to_csv(\"../../data/raw/train.csv\", index=False)\n",
    "\n",
    "# Apply same logix to test data\n",
    "test = pd.read_csv(\"../../data/raw/test.csv\")\n",
    "test.columns = test.columns.str.replace(' ', '_')\n",
    "test.to_csv(\"../../data/raw/test.csv\", index=False)"
   ]
  },
  {
   "cell_type": "markdown",
   "metadata": {},
   "source": [
    "## Check Data"
   ]
  },
  {
   "cell_type": "markdown",
   "metadata": {},
   "source": [
    "### Data Dictionary"
   ]
  },
  {
   "cell_type": "code",
   "execution_count": 8,
   "metadata": {},
   "outputs": [],
   "source": [
    "# Direct copy & paste from:\n",
    "# https://www.kaggle.com/c/uts-advdsi-nba-career-prediction/data\n",
    "\n",
    "DataDict = \\\n",
    "    { \"Id\": \"Player Identifier\"\n",
    "    , \"GP\": \"Games Played\"\n",
    "    , \"MIN\": \"Minutes Played\"\n",
    "    , \"PTS\": \"Points Per Game\"\n",
    "    , \"FGM\": \"Field Goals Made\"\n",
    "    , \"FGA\": \"Field Goals Attempts\"\n",
    "    , \"FG\": \"Field Goals Percent\"\n",
    "    , \"3P_Made\": \"3-Points Made\"\n",
    "    , \"3PA\": \"3-Points Attempts\"\n",
    "    , \"3P\": \"3-Points Percent\"\n",
    "    , \"FTM\": \"Free Throw Made\"\n",
    "    , \"FTA\": \"Free Throw Attempts\"\n",
    "    , \"FT\": \"Free Throw Percent\"\n",
    "    , \"OREB\": \"Offensive Rebounds\"\n",
    "    , \"DREB\": \"Defensive Rebounds\"\n",
    "    , \"REB\": \"Rebounds\"\n",
    "    , \"AST\": \"Assists\"\n",
    "    , \"STL\": \"Steals\"\n",
    "    , \"BLK\": \"Blocks\"\n",
    "    , \"TOV\": \"Turnovers\"\n",
    "    , \"TARGET_5Yrs\": \"Outcome: 1 if career length >= 5 years, 0 otherwise\"\n",
    "    }"
   ]
  },
  {
   "cell_type": "markdown",
   "metadata": {},
   "source": [
    "### Data Exploration"
   ]
  },
  {
   "cell_type": "code",
   "execution_count": 9,
   "metadata": {},
   "outputs": [],
   "source": [
    "# Prevent the need to re-run\n",
    "if os.path.exists(\"InitialReport.html\"):\n",
    "    IFrame(src=\"InitialReport.html\", width=\"100%\", height=600)\n",
    "else:\n",
    "    # Create profile report\n",
    "    profile = ProfileReport(data, title=\"Profile Report\")\n",
    "    # Export\n",
    "    profile.to_file(\"InitialReport.html\")\n",
    "    # View\n",
    "    profile"
   ]
  },
  {
   "cell_type": "markdown",
   "metadata": {},
   "source": [
    "## Experimentation"
   ]
  },
  {
   "source": [
    "### Data Manipulation\n",
    "\n",
    "Steps:\n",
    "\n",
    "1. Drop the `ID` column\n",
    "1. Pop the `target` column\n",
    "1. Scale the features\n",
    "1. Split in to train/test"
   ],
   "cell_type": "markdown",
   "metadata": {}
  },
  {
   "cell_type": "code",
   "execution_count": 10,
   "metadata": {},
   "outputs": [],
   "source": [
    "# Drop ID\n",
    "data = data.drop(['Id'], axis=1)\n",
    "\n",
    "# Pop targ\n",
    "feat = data.iloc[:,:-1].to_numpy()\n",
    "targ = data.iloc[:,-1].to_numpy()\n",
    "\n",
    "# Scale feat\n",
    "from sklearn.preprocessing import StandardScaler\n",
    "scaler = StandardScaler()\n",
    "feat = scaler.fit_transform(feat)\n",
    "\n",
    "# Tran/Test split\n",
    "from sklearn.model_selection import train_test_split\n",
    "feat_trn, feat_val, targ_trn, targ_val = train_test_split(feat, targ, test_size=0.2, random_state=6)"
   ]
  },
  {
   "cell_type": "code",
   "execution_count": 11,
   "metadata": {},
   "outputs": [
    {
     "output_type": "execute_result",
     "data": {
      "text/plain": [
       "['../../models/Chris/scaler.joblib']"
      ]
     },
     "metadata": {},
     "execution_count": 11
    }
   ],
   "source": [
    "# Dump your objects\n",
    "dump(data, \"../../data/processed/Chris/data.joblib\")\n",
    "dump(feat, \"../../data/processed/Chris/feat.joblib\")\n",
    "dump(targ, \"../../data/processed/Chris/targ.joblib\")\n",
    "dump(feat_trn, \"../../data/processed/Chris/feat_trn.joblib\")\n",
    "dump(feat_val, \"../../data/processed/Chris/feat_val.joblib\")\n",
    "dump(targ_trn, \"../../data/processed/Chris/targ_trn.joblib\")\n",
    "dump(targ_val, \"../../data/processed/Chris/targ_val.joblib\")\n",
    "dump(scaler, \"../../models/Chris/scaler.joblib\")"
   ]
  },
  {
   "cell_type": "markdown",
   "metadata": {},
   "source": [
    "### Set up Experiment Space"
   ]
  },
  {
   "cell_type": "code",
   "execution_count": 12,
   "metadata": {},
   "outputs": [],
   "source": [
    "# Set DF for score dumps\n",
    "pred_scor = pd.DataFrame(\n",
    "    { \"name\": []\n",
    "    , \"when\": []\n",
    "    , \"mse\": []\n",
    "    , \"rmse\": []\n",
    "    , \"mae\": []\n",
    "    , \"mape\": []\n",
    "    , \"r2\": []\n",
    "    }\n",
    ")"
   ]
  },
  {
   "cell_type": "code",
   "execution_count": 13,
   "metadata": {},
   "outputs": [],
   "source": [
    "def save_reg_perf(pred, targ, name=None, df_metrics=None, overwrite=True, print=True):\n",
    "    \n",
    "    # Import modules\n",
    "    from sklearn.metrics import mean_squared_error as mse\n",
    "    from sklearn.metrics import mean_absolute_error as mae\n",
    "    from sklearn.metrics import mean_absolute_percentage_error as mape\n",
    "    from sklearn.metrics import r2_score as r2\n",
    "\n",
    "    # Ensure we're using the global object here\n",
    "    global pred_scor\n",
    "\n",
    "    # If you want to use another dataframe, go right ahead. Else, just keep it simple.\n",
    "    if df_metrics==None: df = pred_scor\n",
    "    else: df = data_reg_metrics\n",
    "    \n",
    "    # Best to define name, but if blank then make None\n",
    "    if name==None: name==\"None\"\n",
    "\n",
    "    # Perform calculations\n",
    "    val_now = pd.Timestamp.now().strftime('%d/%b %H:%M')\n",
    "    val_mse = round(mse(targ, pred), 5)\n",
    "    val_rmse = round(mse(targ, pred, squared=False), 5)\n",
    "    val_mae = round(mae(targ, pred), 5)\n",
    "    val_mape = round(mape(targ, pred), 5)\n",
    "    val_r2 = round(r2(targ, pred), 5)\n",
    "\n",
    "    # Two different methods of updating the table. In SQL-Speak this is the difference between INSERT and UPDATE\n",
    "    if overwrite and name in df[\"name\"].to_numpy():\n",
    "        df.loc[df[\"name\"] == name, [\"when\"]] = val_now\n",
    "        df.loc[df[\"name\"] == name, [\"mse\"]] = val_mse\n",
    "        df.loc[df[\"name\"] == name, [\"rmse\"]] = val_rmse\n",
    "        df.loc[df[\"name\"] == name, [\"mae\"]] = val_mae\n",
    "        df.loc[df[\"name\"] == name, [\"mape\"]] = round(val_mape, 5)\n",
    "        df.loc[df[\"name\"] == name, [\"r2\"]] = val_r2\n",
    "    else:\n",
    "        new = pd.DataFrame(\n",
    "            { \"name\": [name]\n",
    "            , \"when\": [val_now]\n",
    "            , \"mse\": [val_mse]\n",
    "            , \"rmse\": [val_rmse]\n",
    "            , \"mae\": [val_mae]\n",
    "            , \"mape\": [val_mape]\n",
    "            , \"r2\": [val_r2]\n",
    "            }\n",
    "        )\n",
    "        df = df.append(new)\n",
    "\n",
    "    # Fix Pandas indexes\n",
    "    df.reindex()\n",
    "\n",
    "    # Assign back to the global scope\n",
    "    pred_scor = df\n",
    "\n",
    "    # Print if needed\n",
    "    if print:\n",
    "        display(df)\n",
    "\n",
    "    # Return\n",
    "    return df"
   ]
  },
  {
   "cell_type": "markdown",
   "metadata": {},
   "source": [
    "### Baseline"
   ]
  },
  {
   "cell_type": "code",
   "execution_count": 14,
   "metadata": {
    "tags": []
   },
   "outputs": [
    {
     "output_type": "display_data",
     "data": {
      "text/plain": "           name          when      mse     rmse      mae          mape   r2\n0  Raw baseline  30/Jan 22:10  0.13869  0.37242  0.27739  6.246239e+14  0.0",
      "text/html": "<div>\n<style scoped>\n    .dataframe tbody tr th:only-of-type {\n        vertical-align: middle;\n    }\n\n    .dataframe tbody tr th {\n        vertical-align: top;\n    }\n\n    .dataframe thead th {\n        text-align: right;\n    }\n</style>\n<table border=\"1\" class=\"dataframe\">\n  <thead>\n    <tr style=\"text-align: right;\">\n      <th></th>\n      <th>name</th>\n      <th>when</th>\n      <th>mse</th>\n      <th>rmse</th>\n      <th>mae</th>\n      <th>mape</th>\n      <th>r2</th>\n    </tr>\n  </thead>\n  <tbody>\n    <tr>\n      <th>0</th>\n      <td>Raw baseline</td>\n      <td>30/Jan 22:10</td>\n      <td>0.13869</td>\n      <td>0.37242</td>\n      <td>0.27739</td>\n      <td>6.246239e+14</td>\n      <td>0.0</td>\n    </tr>\n  </tbody>\n</table>\n</div>"
     },
     "metadata": {}
    }
   ],
   "source": [
    "# Add current project to Python Sys Path\n",
    "if not os.path.abspath(\"../..\") in sys.path:\n",
    "    sys.path.append(os.path.abspath(\"../..\"))\n",
    "else:\n",
    "    sys.path.remove(os.path.abspath(\"../..\"))\n",
    "    sys.path.append(os.path.abspath(\"../..\"))\n",
    "\n",
    "# Get mean of target\n",
    "avg = data['TARGET_5Yrs'].mean()\n",
    "\n",
    "# Generate actuals and baseline\n",
    "bas = np.resize(avg, data.shape[0])\n",
    "act = np.array(data['TARGET_5Yrs'])\n",
    "\n",
    "# Check objects\n",
    "# from src.utils.objects import check_object\n",
    "# check_object(act, \"act\")\n",
    "# check_object(bas, \"bas\")\n",
    "\n",
    "# Check performance\n",
    "save_reg_perf(bas, act, \"Raw baseline\", print=False)\n",
    "display(pred_scor)"
   ]
  },
  {
   "cell_type": "markdown",
   "metadata": {},
   "source": [
    "### Attempt #1: ElasticNet"
   ]
  },
  {
   "cell_type": "code",
   "execution_count": 15,
   "metadata": {},
   "outputs": [
    {
     "output_type": "display_data",
     "data": {
      "text/plain": "                                 name          when      mse     rmse  \\\n0                        Raw baseline  30/Jan 22:10  0.13869  0.37242   \n0  ElasticNet - Defaults - within bag  30/Jan 22:10  0.13913  0.37300   \n0  ElasticNet - Defaults - out of bag  30/Jan 22:10  0.13695  0.37006   \n\n       mae          mape       r2  \n0  0.27739  6.246239e+14  0.00000  \n0  0.27826  6.265940e+14  0.00000  \n0  0.27608  6.142848e+14 -0.00008  ",
      "text/html": "<div>\n<style scoped>\n    .dataframe tbody tr th:only-of-type {\n        vertical-align: middle;\n    }\n\n    .dataframe tbody tr th {\n        vertical-align: top;\n    }\n\n    .dataframe thead th {\n        text-align: right;\n    }\n</style>\n<table border=\"1\" class=\"dataframe\">\n  <thead>\n    <tr style=\"text-align: right;\">\n      <th></th>\n      <th>name</th>\n      <th>when</th>\n      <th>mse</th>\n      <th>rmse</th>\n      <th>mae</th>\n      <th>mape</th>\n      <th>r2</th>\n    </tr>\n  </thead>\n  <tbody>\n    <tr>\n      <th>0</th>\n      <td>Raw baseline</td>\n      <td>30/Jan 22:10</td>\n      <td>0.13869</td>\n      <td>0.37242</td>\n      <td>0.27739</td>\n      <td>6.246239e+14</td>\n      <td>0.00000</td>\n    </tr>\n    <tr>\n      <th>0</th>\n      <td>ElasticNet - Defaults - within bag</td>\n      <td>30/Jan 22:10</td>\n      <td>0.13913</td>\n      <td>0.37300</td>\n      <td>0.27826</td>\n      <td>6.265940e+14</td>\n      <td>0.00000</td>\n    </tr>\n    <tr>\n      <th>0</th>\n      <td>ElasticNet - Defaults - out of bag</td>\n      <td>30/Jan 22:10</td>\n      <td>0.13695</td>\n      <td>0.37006</td>\n      <td>0.27608</td>\n      <td>6.142848e+14</td>\n      <td>-0.00008</td>\n    </tr>\n  </tbody>\n</table>\n</div>"
     },
     "metadata": {}
    },
    {
     "output_type": "execute_result",
     "data": {
      "text/plain": [
       "['../../models/Chris/01_ElasticNet_Default.joblib']"
      ]
     },
     "metadata": {},
     "execution_count": 15
    }
   ],
   "source": [
    "# Import model\n",
    "from sklearn.linear_model import ElasticNet\n",
    "\n",
    "# Instantiate\n",
    "reg = ElasticNet()\n",
    "\n",
    "# Train\n",
    "reg.fit(feat_trn, targ_trn)\n",
    "\n",
    "# Predict on training data\n",
    "pred_trn = reg.predict(feat_trn)\n",
    "\n",
    "# Predict on validation data\n",
    "pred_val = reg.predict(feat_val)\n",
    "\n",
    "# Check performance\n",
    "save_reg_perf(pred_trn, targ_trn, \"ElasticNet - Defaults - within bag\", print=False)\n",
    "save_reg_perf(pred_val, targ_val, \"ElasticNet - Defaults - out of bag\", print=False)\n",
    "display(pred_scor)\n",
    "\n",
    "# Backup\n",
    "dump(reg, \"../../models/Chris/01_ElasticNet_Default.joblib\")"
   ]
  },
  {
   "cell_type": "markdown",
   "metadata": {},
   "source": [
    "Marginally better... barely worth it..."
   ]
  },
  {
   "cell_type": "markdown",
   "metadata": {},
   "source": [
    "### Attempt #2: ElasticNetCV"
   ]
  },
  {
   "cell_type": "code",
   "execution_count": 16,
   "metadata": {},
   "outputs": [
    {
     "output_type": "display_data",
     "data": {
      "text/plain": "                                 name          when      mse     rmse  \\\n0                        Raw baseline  30/Jan 22:10  0.13869  0.37242   \n0  ElasticNet - Defaults - within bag  30/Jan 22:10  0.13913  0.37300   \n0  ElasticNet - Defaults - out of bag  30/Jan 22:10  0.13695  0.37006   \n0             ElasticNetCV - Defaults  30/Jan 22:10  0.12821  0.35807   \n\n       mae          mape       r2  \n0  0.27739  6.246239e+14  0.00000  \n0  0.27826  6.265940e+14  0.00000  \n0  0.27608  6.142848e+14 -0.00008  \n0  0.26090  5.777640e+14  0.07556  ",
      "text/html": "<div>\n<style scoped>\n    .dataframe tbody tr th:only-of-type {\n        vertical-align: middle;\n    }\n\n    .dataframe tbody tr th {\n        vertical-align: top;\n    }\n\n    .dataframe thead th {\n        text-align: right;\n    }\n</style>\n<table border=\"1\" class=\"dataframe\">\n  <thead>\n    <tr style=\"text-align: right;\">\n      <th></th>\n      <th>name</th>\n      <th>when</th>\n      <th>mse</th>\n      <th>rmse</th>\n      <th>mae</th>\n      <th>mape</th>\n      <th>r2</th>\n    </tr>\n  </thead>\n  <tbody>\n    <tr>\n      <th>0</th>\n      <td>Raw baseline</td>\n      <td>30/Jan 22:10</td>\n      <td>0.13869</td>\n      <td>0.37242</td>\n      <td>0.27739</td>\n      <td>6.246239e+14</td>\n      <td>0.00000</td>\n    </tr>\n    <tr>\n      <th>0</th>\n      <td>ElasticNet - Defaults - within bag</td>\n      <td>30/Jan 22:10</td>\n      <td>0.13913</td>\n      <td>0.37300</td>\n      <td>0.27826</td>\n      <td>6.265940e+14</td>\n      <td>0.00000</td>\n    </tr>\n    <tr>\n      <th>0</th>\n      <td>ElasticNet - Defaults - out of bag</td>\n      <td>30/Jan 22:10</td>\n      <td>0.13695</td>\n      <td>0.37006</td>\n      <td>0.27608</td>\n      <td>6.142848e+14</td>\n      <td>-0.00008</td>\n    </tr>\n    <tr>\n      <th>0</th>\n      <td>ElasticNetCV - Defaults</td>\n      <td>30/Jan 22:10</td>\n      <td>0.12821</td>\n      <td>0.35807</td>\n      <td>0.26090</td>\n      <td>5.777640e+14</td>\n      <td>0.07556</td>\n    </tr>\n  </tbody>\n</table>\n</div>"
     },
     "metadata": {}
    },
    {
     "output_type": "execute_result",
     "data": {
      "text/plain": [
       "['../../models/Chris/02_ElasticNetCV_Default.joblib']"
      ]
     },
     "metadata": {},
     "execution_count": 16
    }
   ],
   "source": [
    "# Import model\n",
    "from sklearn.linear_model import ElasticNetCV\n",
    "\n",
    "# Instantiate\n",
    "reg = ElasticNetCV()\n",
    "\n",
    "# Train\n",
    "reg.fit(feat, targ)\n",
    "\n",
    "# Predict on validation data\n",
    "pred = reg.predict(feat)\n",
    "\n",
    "# Check performance\n",
    "save_reg_perf(pred, targ, \"ElasticNetCV - Defaults\")\n",
    "\n",
    "# Backup\n",
    "dump(reg, \"../../models/Chris/02_ElasticNetCV_Default.joblib\")"
   ]
  },
  {
   "source": [
    "Slignt improvement. But nothing substantive yet."
   ],
   "cell_type": "markdown",
   "metadata": {}
  },
  {
   "source": [
    "### Attempt #3: Random Forest"
   ],
   "cell_type": "markdown",
   "metadata": {}
  },
  {
   "cell_type": "code",
   "execution_count": 17,
   "metadata": {},
   "outputs": [
    {
     "output_type": "display_data",
     "data": {
      "text/plain": "                                 name          when      mse     rmse  \\\n0                        Raw baseline  30/Jan 22:10  0.13869  0.37242   \n0  ElasticNet - Defaults - within bag  30/Jan 22:10  0.13913  0.37300   \n0  ElasticNet - Defaults - out of bag  30/Jan 22:10  0.13695  0.37006   \n0             ElasticNetCV - Defaults  30/Jan 22:10  0.12821  0.35807   \n0             RandomForest - Defaults  30/Jan 22:10  0.01875  0.13692   \n\n       mae          mape       r2  \n0  0.27739  6.246239e+14  0.00000  \n0  0.27826  6.265940e+14  0.00000  \n0  0.27608  6.142848e+14 -0.00008  \n0  0.26090  5.777640e+14  0.07556  \n0  0.09825  2.069573e+14  0.86483  ",
      "text/html": "<div>\n<style scoped>\n    .dataframe tbody tr th:only-of-type {\n        vertical-align: middle;\n    }\n\n    .dataframe tbody tr th {\n        vertical-align: top;\n    }\n\n    .dataframe thead th {\n        text-align: right;\n    }\n</style>\n<table border=\"1\" class=\"dataframe\">\n  <thead>\n    <tr style=\"text-align: right;\">\n      <th></th>\n      <th>name</th>\n      <th>when</th>\n      <th>mse</th>\n      <th>rmse</th>\n      <th>mae</th>\n      <th>mape</th>\n      <th>r2</th>\n    </tr>\n  </thead>\n  <tbody>\n    <tr>\n      <th>0</th>\n      <td>Raw baseline</td>\n      <td>30/Jan 22:10</td>\n      <td>0.13869</td>\n      <td>0.37242</td>\n      <td>0.27739</td>\n      <td>6.246239e+14</td>\n      <td>0.00000</td>\n    </tr>\n    <tr>\n      <th>0</th>\n      <td>ElasticNet - Defaults - within bag</td>\n      <td>30/Jan 22:10</td>\n      <td>0.13913</td>\n      <td>0.37300</td>\n      <td>0.27826</td>\n      <td>6.265940e+14</td>\n      <td>0.00000</td>\n    </tr>\n    <tr>\n      <th>0</th>\n      <td>ElasticNet - Defaults - out of bag</td>\n      <td>30/Jan 22:10</td>\n      <td>0.13695</td>\n      <td>0.37006</td>\n      <td>0.27608</td>\n      <td>6.142848e+14</td>\n      <td>-0.00008</td>\n    </tr>\n    <tr>\n      <th>0</th>\n      <td>ElasticNetCV - Defaults</td>\n      <td>30/Jan 22:10</td>\n      <td>0.12821</td>\n      <td>0.35807</td>\n      <td>0.26090</td>\n      <td>5.777640e+14</td>\n      <td>0.07556</td>\n    </tr>\n    <tr>\n      <th>0</th>\n      <td>RandomForest - Defaults</td>\n      <td>30/Jan 22:10</td>\n      <td>0.01875</td>\n      <td>0.13692</td>\n      <td>0.09825</td>\n      <td>2.069573e+14</td>\n      <td>0.86483</td>\n    </tr>\n  </tbody>\n</table>\n</div>"
     },
     "metadata": {}
    },
    {
     "output_type": "execute_result",
     "data": {
      "text/plain": [
       "['../../models/Chris/03_RandomForest_Default.joblib']"
      ]
     },
     "metadata": {},
     "execution_count": 17
    }
   ],
   "source": [
    "# Import model\n",
    "from sklearn.ensemble import RandomForestRegressor\n",
    "\n",
    "# Instantiate\n",
    "reg = RandomForestRegressor()\n",
    "\n",
    "# Train\n",
    "reg.fit(feat, targ)\n",
    "\n",
    "# Predict on validation data\n",
    "pred = reg.predict(feat)\n",
    "\n",
    "# Check performance\n",
    "save_reg_perf(pred, targ, \"RandomForest - Defaults\")\n",
    "\n",
    "# Backup\n",
    "dump(reg, \"../../models/Chris/03_RandomForest_Default.joblib\")"
   ]
  },
  {
   "source": [
    "**NOW** We're cookin with Gas!"
   ],
   "cell_type": "markdown",
   "metadata": {}
  },
  {
   "source": [
    "### Attempt #4: Next"
   ],
   "cell_type": "markdown",
   "metadata": {}
  },
  {
   "cell_type": "code",
   "execution_count": 18,
   "metadata": {},
   "outputs": [
    {
     "output_type": "display_data",
     "data": {
      "text/plain": "                                 name          when      mse     rmse  \\\n0                        Raw baseline  30/Jan 22:10  0.13869  0.37242   \n0  ElasticNet - Defaults - within bag  30/Jan 22:10  0.13913  0.37300   \n0  ElasticNet - Defaults - out of bag  30/Jan 22:10  0.13695  0.37006   \n0             ElasticNetCV - Defaults  30/Jan 22:10  0.12821  0.35807   \n0             RandomForest - Defaults  30/Jan 22:10  0.01875  0.13692   \n0                      GBM - Defaults  30/Jan 22:10  0.11536  0.33964   \n\n       mae          mape       r2  \n0  0.27739  6.246239e+14  0.00000  \n0  0.27826  6.265940e+14  0.00000  \n0  0.27608  6.142848e+14 -0.00008  \n0  0.26090  5.777640e+14  0.07556  \n0  0.09825  2.069573e+14  0.86483  \n0  0.24124  5.431706e+14  0.16827  ",
      "text/html": "<div>\n<style scoped>\n    .dataframe tbody tr th:only-of-type {\n        vertical-align: middle;\n    }\n\n    .dataframe tbody tr th {\n        vertical-align: top;\n    }\n\n    .dataframe thead th {\n        text-align: right;\n    }\n</style>\n<table border=\"1\" class=\"dataframe\">\n  <thead>\n    <tr style=\"text-align: right;\">\n      <th></th>\n      <th>name</th>\n      <th>when</th>\n      <th>mse</th>\n      <th>rmse</th>\n      <th>mae</th>\n      <th>mape</th>\n      <th>r2</th>\n    </tr>\n  </thead>\n  <tbody>\n    <tr>\n      <th>0</th>\n      <td>Raw baseline</td>\n      <td>30/Jan 22:10</td>\n      <td>0.13869</td>\n      <td>0.37242</td>\n      <td>0.27739</td>\n      <td>6.246239e+14</td>\n      <td>0.00000</td>\n    </tr>\n    <tr>\n      <th>0</th>\n      <td>ElasticNet - Defaults - within bag</td>\n      <td>30/Jan 22:10</td>\n      <td>0.13913</td>\n      <td>0.37300</td>\n      <td>0.27826</td>\n      <td>6.265940e+14</td>\n      <td>0.00000</td>\n    </tr>\n    <tr>\n      <th>0</th>\n      <td>ElasticNet - Defaults - out of bag</td>\n      <td>30/Jan 22:10</td>\n      <td>0.13695</td>\n      <td>0.37006</td>\n      <td>0.27608</td>\n      <td>6.142848e+14</td>\n      <td>-0.00008</td>\n    </tr>\n    <tr>\n      <th>0</th>\n      <td>ElasticNetCV - Defaults</td>\n      <td>30/Jan 22:10</td>\n      <td>0.12821</td>\n      <td>0.35807</td>\n      <td>0.26090</td>\n      <td>5.777640e+14</td>\n      <td>0.07556</td>\n    </tr>\n    <tr>\n      <th>0</th>\n      <td>RandomForest - Defaults</td>\n      <td>30/Jan 22:10</td>\n      <td>0.01875</td>\n      <td>0.13692</td>\n      <td>0.09825</td>\n      <td>2.069573e+14</td>\n      <td>0.86483</td>\n    </tr>\n    <tr>\n      <th>0</th>\n      <td>GBM - Defaults</td>\n      <td>30/Jan 22:10</td>\n      <td>0.11536</td>\n      <td>0.33964</td>\n      <td>0.24124</td>\n      <td>5.431706e+14</td>\n      <td>0.16827</td>\n    </tr>\n  </tbody>\n</table>\n</div>"
     },
     "metadata": {}
    },
    {
     "output_type": "execute_result",
     "data": {
      "text/plain": [
       "['../../models/Chris/04_GBM_Default.joblib']"
      ]
     },
     "metadata": {},
     "execution_count": 18
    }
   ],
   "source": [
    "# Import model\n",
    "from sklearn.ensemble import GradientBoostingRegressor\n",
    "\n",
    "# Instantiate\n",
    "reg = GradientBoostingRegressor()\n",
    "\n",
    "# Train\n",
    "reg.fit(feat, targ)\n",
    "\n",
    "# Predict on validation data\n",
    "pred = reg.predict(feat)\n",
    "\n",
    "# Check performance\n",
    "save_reg_perf(pred, targ, \"GBM - Defaults\")\n",
    "\n",
    "# Backup\n",
    "dump(reg, \"../../models/Chris/04_GBM_Default.joblib\")"
   ]
  },
  {
   "source": [
    "## Submit to kaggle"
   ],
   "cell_type": "markdown",
   "metadata": {}
  },
  {
   "cell_type": "code",
   "execution_count": 19,
   "metadata": {},
   "outputs": [],
   "source": [
    "# Define function to do the final processing\n",
    "def final_prediction_processing(final_model_path, data_scaler_path, test_data_path, submission_data_path, check=False):\n",
    "    \n",
    "    # Import selected data\n",
    "    final_model = load(final_model_path)\n",
    "    data_scaler = load(data_scaler_path)\n",
    "    test_data = pd.read_csv(test_data_path)\n",
    "\n",
    "    # Process final data\n",
    "    submission_data = test_data.pop(\"Id\")\n",
    "    test_data = data_scaler.fit_transform(test_data)\n",
    "\n",
    "    # Get prediction\n",
    "    final_prediction = final_model.predict(test_data)\n",
    "\n",
    "    # Form final data\n",
    "    submission_data = pd.concat([pd.DataFrame(submission_data), pd.DataFrame(final_prediction)], axis=1)\n",
    "    submission_data.columns = [\"Id\", \"TARGET_5Yrs\"]\n",
    "    submission_data[\"TARGET_5Yrs\"] = submission_data[\"TARGET_5Yrs\"].apply(lambda pred: 1 if pred > 0.5 else 0)\n",
    "\n",
    "    # Check\n",
    "    if check:\n",
    "        display(submission_data)\n",
    "\n",
    "    # Save to file\n",
    "    submission_data.to_csv(submission_data_path, index=False)\n",
    "\n",
    "    return submission_data"
   ]
  },
  {
   "cell_type": "code",
   "execution_count": 20,
   "metadata": {},
   "outputs": [],
   "source": [
    "# Process the final data\n",
    "submission_data = final_prediction_processing \\\n",
    "    ( final_model_path = \"../../models/Chris/03_RandomForest_Default.joblib\"\n",
    "    , data_scaler_path = \"../../models/Chris/scaler.joblib\"\n",
    "    , test_data_path = \"../../data/raw/test.csv\"\n",
    "    , submission_data_path = \"../../data/external/final.csv\"\n",
    "    )"
   ]
  },
  {
   "cell_type": "code",
   "execution_count": 21,
   "metadata": {},
   "outputs": [
    {
     "output_type": "execute_result",
     "data": {
      "text/plain": [
       "'Successfully submitted to [UTS AdvDSI] NBA Career Prediction'"
      ]
     },
     "metadata": {},
     "execution_count": 21
    }
   ],
   "source": [
    "# Function to call Kaggle API\n",
    "def call_kaggle_api(upload_file, upload_message):\n",
    "    \"\"\"\n",
    "    Call the Kaggle API to submit a file\n",
    "    Inspiration: https://unix.stackexchange.com/questions/190495/how-to-execute-a-bash-command-in-a-python-script#answer-579917\n",
    "    \n",
    "    Args:\n",
    "        upload_file (str): The source path where the file will be uploaded _from_.\n",
    "        upload_message (str): The message that will be sent to Kaggle for this submission.\n",
    "\n",
    "    Raises:\n",
    "        Exception: CallProcessError, incase subprocess has a wobbly\n",
    "        Exception: Exception, for everything else\n",
    "\n",
    "    Returns:\n",
    "        str: The confirmation string from the API call\n",
    "    \"\"\"\n",
    "\n",
    "    import subprocess\n",
    "\n",
    "    bash_call = \"kaggle competitions submit --competition uts-advdsi-nba-career-prediction --file {upload_file} --message {upload_message} --quiet\".format(upload_file=upload_file, upload_message=upload_message)\n",
    "\n",
    "    try:        \n",
    "        result = subprocess.run(bash_call, check=True, shell=True, stdout=subprocess.PIPE, stderr=subprocess.PIPE)\n",
    "    except subprocess.CalledProcessError as err:\n",
    "        raise Exception(str(err.stderr.decode(\"utf-8\")))\n",
    "    except Exception as err:\n",
    "        raise Exception(err)\n",
    "    else:\n",
    "        return result.stdout.decode(\"utf-8\")"
   ]
  },
  {
   "cell_type": "code",
   "execution_count": null,
   "metadata": {},
   "outputs": [],
   "source": [
    "# Call the API\n",
    "call_kaggle_api     ( upload_file = \"../../data/external/final.csv\"\n",
    "    , upload_message = \"Ctrl-Alt-Elite_RandomForest_Defaults\"\n",
    "    )"
   ]
  }
 ],
 "metadata": {
  "kernelspec": {
   "name": "python3",
   "display_name": "Python 3.7.6 64-bit ('MDSI_ADSI_FEB21_AT1': pipenv)",
   "metadata": {
    "interpreter": {
     "hash": "3e80ef4c2a88a43457e1699f5c64dc4e152f8c6fb43e4dcb8d5b1e03a66b9f48"
    }
   }
  },
  "language_info": {
   "codemirror_mode": {
    "name": "ipython",
    "version": 3
   },
   "file_extension": ".py",
   "mimetype": "text/x-python",
   "name": "python",
   "nbconvert_exporter": "python",
   "pygments_lexer": "ipython3",
   "version": "3.7.6-final"
  }
 },
 "nbformat": 4,
 "nbformat_minor": 4
}