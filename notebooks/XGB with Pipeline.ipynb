{
 "cells": [
  {
   "cell_type": "code",
   "execution_count": 4,
   "metadata": {},
   "outputs": [],
   "source": [
    "#Import libraries and load data frame\n",
    "import pandas as pd\n",
    "import numpy as np\n",
    "from numpy import sort\n",
    "import xgboost as xgb\n",
    "from xgboost import XGBClassifier\n",
    "\n",
    "from joblib import dump\n",
    "\n",
    "from sklearn.pipeline import Pipeline\n",
    "from sklearn.impute import SimpleImputer\n",
    "from sklearn.preprocessing import StandardScaler\n",
    "from sklearn.model_selection import train_test_split\n",
    "from sklearn.metrics import accuracy_score, roc_auc_score, confusion_matrix, precision_score\n",
    "\n"
   ]
  },
  {
   "cell_type": "code",
   "execution_count": 2,
   "metadata": {},
   "outputs": [],
   "source": [
    "#Load data\n",
    "\n",
    "trainDF = pd.read_csv('../data/raw/train.csv')\n",
    "testDF = pd.read_csv('../data/raw/test.csv')\n",
    "\n",
    "#Remove Id columns as irrelevant and data cleaning such as make all columns absolute values\n",
    "\n",
    "trainDF_cleaned = trainDF.copy()\n",
    "trainDF_cleaned = trainDF_cleaned.abs()\n",
    "trainDF_cleaned.drop(['Id_old','Id'], axis=1, inplace=True)\n",
    "target = trainDF_cleaned.pop('TARGET_5Yrs')\n",
    "\n",
    "testDF_cleaned = testDF.copy()\n",
    "testDF_cleaned = testDF_cleaned.abs()\n",
    "testDF_cleaned.drop(['Id_old','Id'], axis=1, inplace=True)"
   ]
  },
  {
   "cell_type": "code",
   "execution_count": 3,
   "metadata": {},
   "outputs": [],
   "source": [
    "#Split data\n",
    "\n",
    "X_train, X_val, y_train, y_val = train_test_split (trainDF_cleaned, target, test_size=0.2, random_state=8)\n",
    "\n",
    "np.save('../data/processed/X_train', X_train)\n",
    "np.save('../data/processed/X_val',   X_val)\n",
    "\n",
    "np.save('../data/processed/y_train', y_train)\n",
    "np.save('../data/processed/y_val',   y_val)\n"
   ]
  },
  {
   "cell_type": "code",
   "execution_count": 9,
   "metadata": {},
   "outputs": [],
   "source": [
    "#Build pipeline\n",
    "\n",
    "full_pipeline = Pipeline([('imputer', SimpleImputer()),  ('scaler', StandardScaler()),\n",
    "\n",
    "('xgb', XGBClassifier(max_depth=8, learning_rate=0.05, min_child_weight=9, subsample=0.7, colsample_bytree=1.0, colsample_bylevel=0.9, colsample_bynode=0.8))])\n"
   ]
  },
  {
   "cell_type": "code",
   "execution_count": 10,
   "metadata": {},
   "outputs": [
    {
     "name": "stderr",
     "output_type": "stream",
     "text": [
      "/opt/anaconda3/lib/python3.7/site-packages/xgboost/sklearn.py:888: UserWarning: The use of label encoder in XGBClassifier is deprecated and will be removed in a future release. To remove this warning, do the following: 1) Pass option use_label_encoder=False when constructing XGBClassifier object; and 2) Encode your labels (y) as integers starting with 0, i.e. 0, 1, 2, ..., [num_class - 1].\n",
      "  warnings.warn(label_encoder_deprecation_msg, UserWarning)\n"
     ]
    },
    {
     "name": "stdout",
     "output_type": "stream",
     "text": [
      "[07:14:20] WARNING: /Users/travis/build/dmlc/xgboost/src/learner.cc:1061: Starting in XGBoost 1.3.0, the default evaluation metric used with the objective 'binary:logistic' was changed from 'error' to 'logloss'. Explicitly set eval_metric if you'd like to restore the old behavior.\n"
     ]
    }
   ],
   "source": [
    "# Fit and predict using pipeline\n",
    "\n",
    "full_pipeline.fit(X_train,y_train)\n",
    "pred_val = full_pipeline.predict(X_val)"
   ]
  },
  {
   "cell_type": "code",
   "execution_count": null,
   "metadata": {},
   "outputs": [],
   "source": [
    "#Optional: Parameter grid for pipeline\n",
    "\n",
    "##param1 = [,..]\n",
    "\n",
    "##param_grid = dict(xgb__paramname=param1, xbg__param2name=param2)"
   ]
  },
  {
   "cell_type": "code",
   "execution_count": 13,
   "metadata": {},
   "outputs": [
    {
     "name": "stdout",
     "output_type": "stream",
     "text": [
      "Confusion Matrix \n",
      " [[   8  249]\n",
      " [  22 1321]]\n",
      "Accuracy: 0.830625\n",
      "AUC: 0.51\n"
     ]
    }
   ],
   "source": [
    "# Print confusion matrix to evaluate classification accuracy\n",
    "cm_val = confusion_matrix(y_val, pred_val)\n",
    "print(\"Confusion Matrix \\n\", cm_val)\n",
    "\n",
    "\n",
    "# Model Accuracy, how often is the classifier correct?\n",
    "print(\"Accuracy:\",accuracy_score(y_val, pred_val))\n",
    "\n",
    "#AUC score\n",
    "auc_val = roc_auc_score(y_val,pred_val)\n",
    "print('AUC: %.2f' % auc_val)"
   ]
  },
  {
   "cell_type": "code",
   "execution_count": null,
   "metadata": {},
   "outputs": [],
   "source": []
  }
 ],
 "metadata": {
  "kernelspec": {
   "display_name": "Python 3",
   "language": "python",
   "name": "python3"
  },
  "language_info": {
   "codemirror_mode": {
    "name": "ipython",
    "version": 3
   },
   "file_extension": ".py",
   "mimetype": "text/x-python",
   "name": "python",
   "nbconvert_exporter": "python",
   "pygments_lexer": "ipython3",
   "version": "3.7.6"
  }
 },
 "nbformat": 4,
 "nbformat_minor": 4
}
