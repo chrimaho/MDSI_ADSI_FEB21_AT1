{
 "cells": [
  {
   "cell_type": "markdown",
   "metadata": {},
   "source": [
    "# The Future of Basketball Players"
   ]
  },
  {
   "cell_type": "markdown",
   "metadata": {},
   "source": [
    "## Set up environment"
   ]
  },
  {
   "cell_type": "code",
   "execution_count": 1,
   "metadata": {},
   "outputs": [],
   "source": [
    "# Load modules\n",
    "import pandas as pd\n",
    "import numpy as np\n",
    "from joblib import dump\n",
    "from joblib import load\n",
    "from sklearn.metrics import confusion_matrix\n",
    "from sklearn.metrics import plot_confusion_matrix\n",
    "from sklearn.metrics import plot_roc_curve\n",
    "from sklearn.metrics import roc_auc_score\n",
    "import matplotlib.pyplot as plt \n",
    "from pandas_profiling import ProfileReport\n",
    "import random\n",
    "from statistics import mode"
   ]
  },
  {
   "cell_type": "markdown",
   "metadata": {},
   "source": [
    "## Get data"
   ]
  },
  {
   "cell_type": "code",
   "execution_count": 84,
   "metadata": {},
   "outputs": [],
   "source": [
    "# Turn off table squishing\n",
    "pd.options.display.max_columns = None\n",
    "\n",
    "# Import and inspect training data\n",
    "df_train = pd.read_csv('../../data/raw/train.csv')\n",
    "#display(df_train)\n",
    "\n",
    "# Import and inspect test data\n",
    "df_test = pd.read_csv('../../data/raw/test.csv')\n",
    "#display(df_test)"
   ]
  },
  {
   "cell_type": "markdown",
   "metadata": {},
   "source": [
    "## Check data"
   ]
  },
  {
   "cell_type": "markdown",
   "metadata": {},
   "source": [
    "### Data dictionary"
   ]
  },
  {
   "cell_type": "code",
   "execution_count": 85,
   "metadata": {},
   "outputs": [],
   "source": [
    "# Copied from https://www.kaggle.com/c/uts-advdsi-nba-career-prediction/data\n",
    "\n",
    "DataDict = \\\n",
    "    { \"Id\": \"Player Identifier\"\n",
    "    , \"GP\": \"Games Played\"\n",
    "    , \"MIN\": \"Minutes Played\"\n",
    "    , \"PTS\": \"Points Per Game\"\n",
    "    , \"FGM\": \"Field Goals Made\"\n",
    "    , \"FGA\": \"Field Goals Attempts\"\n",
    "    , \"FG%\": \"Field Goals Percent\"\n",
    "    , \"3P_Made\": \"3-Points Made\"\n",
    "    , \"3PA\": \"3-Points Attempts\"\n",
    "    , \"3P%\": \"3-Points Percent\"\n",
    "    , \"FTM\": \"Free Throw Made\"\n",
    "    , \"FTA\": \"Free Throw Attempts\"\n",
    "    , \"FT%\": \"Free Throw Percent\"\n",
    "    , \"OREB\": \"Offensive Rebounds\"\n",
    "    , \"DREB\": \"Defensive Rebounds\"\n",
    "    , \"REB\": \"Rebounds\"\n",
    "    , \"AST\": \"Assists\"\n",
    "    , \"STL\": \"Steals\"\n",
    "    , \"BLK\": \"Blocks\"\n",
    "    , \"TOV\": \"Turnovers\"\n",
    "    , \"TARGET_5Yrs\": \"Outcome: 1 if career length >= 5 years, 0 otherwise\"\n",
    "    }"
   ]
  },
  {
   "cell_type": "markdown",
   "metadata": {},
   "source": [
    "### Data exploration"
   ]
  },
  {
   "cell_type": "raw",
   "metadata": {},
   "source": [
    "# Create profile report\n",
    "profile = ProfileReport(df_train, title=\"Profile Report\", minimal=True)\n",
    "# Export\n",
    "profile.to_file(\"../../reports/David/initial_eda_report.html\")\n",
    "# View\n",
    "#profile"
   ]
  },
  {
   "cell_type": "markdown",
   "metadata": {},
   "source": [
    "## Experimentation"
   ]
  },
  {
   "cell_type": "markdown",
   "metadata": {},
   "source": [
    "### Feature engineering"
   ]
  },
  {
   "cell_type": "code",
   "execution_count": 86,
   "metadata": {},
   "outputs": [],
   "source": [
    "# Convert negative values to absolute values\n",
    "df_train = abs(df_train)\n",
    "df_test = abs(df_test)"
   ]
  },
  {
   "cell_type": "code",
   "execution_count": 87,
   "metadata": {},
   "outputs": [],
   "source": [
    "# Attempt 5: Add Hollinger's Player Efficiency Ratings\n",
    "# Adapted from https://bleacherreport.com/articles/113144-cracking-the-code-how-to-calculate-hollingers-per-without-all-the-mess\n",
    "train_per = ((df_train['FGM']*85.910)+ \n",
    "(df_train['STL']*53.897)+ \n",
    "(df_train['3P_Made']*51.757)+ \n",
    "(df_train['FTM']*46.845)+\n",
    "(df_train['BLK']*39.190)+\n",
    "(df_train['OREB']*39.190)+\n",
    "(df_train['AST']*34.667)+\n",
    "(df_train['DREB']*14.707)-\n",
    "((df_train['FTA']-df_train['FTM'])*20.091)-\n",
    "((df_train['FGA']-df_train['FGM'])*39.190)-\n",
    "(df_train['TOV']*53.897))*(1/df_train['MIN'])\n",
    "\n",
    "test_per = ((df_test['FGM']*85.910)+ \n",
    "(df_test['STL']*53.897)+ \n",
    "(df_test['3P_Made']*51.757)+ \n",
    "(df_test['FTM']*46.845)+\n",
    "(df_test['BLK']*39.190)+\n",
    "(df_test['OREB']*39.190)+\n",
    "(df_test['AST']*34.667)+\n",
    "(df_test['DREB']*14.707)-\n",
    "((df_test['FTA']-df_test['FTM'])*20.091)-\n",
    "((df_test['FGA']-df_test['FGM'])*39.190)-\n",
    "(df_test['TOV']*53.897))*(1/df_test['MIN'])\n",
    "\n",
    "df_train.insert(21, 'PER', train_per)\n",
    "df_test.insert(21, 'PER', test_per)"
   ]
  },
  {
   "cell_type": "markdown",
   "metadata": {},
   "source": [
    "### Data manipulation"
   ]
  },
  {
   "cell_type": "code",
   "execution_count": 88,
   "metadata": {},
   "outputs": [],
   "source": [
    "# Drop ID column - training and test data\n",
    "df_train = df_train.drop(['Id_old','Id'], axis=1)\n",
    "df_test = df_test.drop(['Id_old','Id'], axis=1)\n",
    "\n",
    "# Identify target\n",
    "features = df_train.iloc[:,:-1].to_numpy()\n",
    "target = df_train.iloc[:,-1].to_numpy()\n",
    "\n",
    "# Standardize features - training data\n",
    "from sklearn.preprocessing import StandardScaler\n",
    "scaler = StandardScaler()\n",
    "features = scaler.fit_transform(features)\n",
    "\n",
    "# Standardize features - test data\n",
    "X_test = scaler.fit_transform(df_test)\n",
    "\n",
    "# Save scaler into models folder\n",
    "dump(scaler, '../../models/David/scaler.joblib')\n",
    "\n",
    "# Split into training and validation sets\n",
    "from sklearn.model_selection import train_test_split\n",
    "X_train, X_val, y_train, y_val = train_test_split(features, target, test_size=0.1, random_state=8)\n",
    "\n",
    "# Resample training data if required\n",
    "from imblearn.over_sampling import SMOTE\n",
    "sm = SMOTE(random_state=42)\n",
    "X_train_res, y_train_res = sm.fit_resample(X_train, y_train)"
   ]
  },
  {
   "cell_type": "markdown",
   "metadata": {},
   "source": [
    "#### Save data objects"
   ]
  },
  {
   "cell_type": "code",
   "execution_count": null,
   "metadata": {},
   "outputs": [],
   "source": [
    "# Save data objects into folder\n",
    "dump(scaler, '../../models/David/scaler.joblib')\n",
    "dump(X_train, '../../data/processed/David/X_train.joblib')\n",
    "dump(X_val, '../../data/processed/David/X_val.joblib')\n",
    "dump(y_train, '../../data/processed/David/y_train.joblib')\n",
    "dump(y_val, '../../data/processed/David/y_val.joblib')"
   ]
  },
  {
   "cell_type": "markdown",
   "metadata": {},
   "source": [
    "### Set up experiment space"
   ]
  },
  {
   "cell_type": "code",
   "execution_count": 7,
   "metadata": {},
   "outputs": [],
   "source": [
    "# Set dataframe for score dumps\n",
    "pred_scor = pd.DataFrame(\n",
    "        { \"name\": []\n",
    "        , \"auc\": []\n",
    "        , \"sens\": []\n",
    "        , \"spec\": []\n",
    "        , \"f1\": []\n",
    "        }\n",
    "    )"
   ]
  },
  {
   "cell_type": "code",
   "execution_count": 8,
   "metadata": {},
   "outputs": [],
   "source": [
    "# Define function to fit and save models, and run predictions on validation data\n",
    "def fit_predict_save(reg, name, X_train, y_train, X_val, y_val):\n",
    "    \n",
    "    \"\"\"\n",
    "    Args:\n",
    "        reg: Classifier with parameters defined.\n",
    "        name: Name given to model (to be saved to .joblib file)\n",
    "        X_train: Numpy array of input values in training data\n",
    "        y_train: Numpy array of actual target values in training data\n",
    "        X_val: Numpy array of input values in validation data\n",
    "        y_val: Numpy array of actual target values in validation data\n",
    "    \"\"\"\n",
    "    \n",
    "    # Fit classifier\n",
    "    reg.fit(X_train, y_train)\n",
    "    \n",
    "    global y_train_pred, y_val_pred, y_val_prob\n",
    "    \n",
    "    # Model predictions on training and validation data\n",
    "    y_train_pred = reg.predict(X_train)\n",
    "    y_val_pred = reg.predict(X_val)\n",
    "    y_val_prob = reg.predict_proba(X_val)[:,1]\n",
    "    \n",
    "    # Save fitted model into model folder\n",
    "    save_path = ('../../models/David/'\"%s\"'.joblib' % name) \n",
    "    dump(reg, save_path)\n",
    "    \n",
    "    # Calculate AUC\n",
    "    roc_auc_val = roc_auc_score(y_val, y_val_prob)\n",
    "    print(\"\\nROC_AUC:\", roc_auc_val, \"\\n\")\n",
    "    \n",
    "    return None"
   ]
  },
  {
   "cell_type": "code",
   "execution_count": 9,
   "metadata": {},
   "outputs": [],
   "source": [
    "# Define function to plot confidence matrix and ROC curve for model evaluation\n",
    "def plot_cm_roc(reg, X_val, y_val):\n",
    "    \n",
    "    \"\"\"\n",
    "    Args:\n",
    "        reg: Fitted classifier.\n",
    "        X_val: Numpy array of input values in validation data.\n",
    "        y_val: Numpy array of actual target values in validation data.\n",
    "    \"\"\"\n",
    "    \n",
    "    # Print confusion matrix (standard and normalized formats)\n",
    "    fig = plt.figure(figsize=(8,8))\n",
    "    ax1 = fig.add_subplot(121) \n",
    "    ax1.title.set_text(\"Confusion matrix-Training (normalized)\")\n",
    "    plot_confusion_matrix(reg, X_train, y_train, \n",
    "                          cmap=plt.cm.Oranges,\n",
    "                          colorbar=False,\n",
    "                          normalize='true',\n",
    "                          ax=ax1)\n",
    "\n",
    "    ax2 = fig.add_subplot(122)\n",
    "    ax2.title.set_text(\"Confusion matrix-Validation (normalized)\")\n",
    "    plot_confusion_matrix(reg, X_val, y_val,\n",
    "                          cmap=plt.cm.Blues,\n",
    "                          colorbar=False,\n",
    "                          normalize='true',\n",
    "                          ax=ax2)\n",
    "\n",
    "    plt.subplots_adjust(wspace=0.5)\n",
    "    plt.show() \n",
    "    \n",
    "    # Plot ROC curve\n",
    "    plot_roc_curve(reg, X_val, y_val)\n",
    "    plt.plot([0, 1], [0, 1],'r--')\n",
    "    plt.title(\"Receiver Operating Characteristic\")\n",
    "    plt.show()\n",
    "    \n",
    "    return None "
   ]
  },
  {
   "cell_type": "code",
   "execution_count": 10,
   "metadata": {},
   "outputs": [],
   "source": [
    "# Define function to save model performance to a dataframe\n",
    "def save_perf \\\n",
    "    (  name\n",
    "     , y_val:np.real\n",
    "     , y_val_pred:np.real\n",
    "     , y_val_prob:np.real\n",
    "     , overwrite:bool=True\n",
    "     , print_dataframe: bool=True\n",
    "     , save_dataframe:bool=True\n",
    "    ):\n",
    "    \n",
    "    \"\"\"\n",
    "    Args:\n",
    "        name: Name of model (to be saved to output table).\n",
    "        y_val: Numpy array of actual target values in validation data.\n",
    "        y_val_pred: Numpy array of target values predicted by model.\n",
    "        y_val_prob: Numpy array of probability estimates for target values predicted by model.\n",
    "        overwrite (bool, optional): Whether or not to overwrite the data in the dataframe.\n",
    "        print_dataframe (bool, optional): Whether or not to print the final updated dataframe.\n",
    "        save_dataframe (bool, optional): Whether or not to save the updated dataframe to disk as .csv file.\n",
    "    \"\"\"\n",
    "\n",
    "    # Import modules\n",
    "    from sklearn.metrics import roc_curve, auc, confusion_matrix\n",
    "    from sklearn.metrics import f1_score as f1\n",
    "    \n",
    "    # Define and calculate metrics\n",
    "    fpr, tpr, thresholds = roc_curve(y_val, y_val_prob)\n",
    "    val_auc = auc(fpr, tpr)\n",
    "    tn, fp, fn, tp = confusion_matrix(y_val, y_val_pred).ravel()\n",
    "    val_sens = round(tp/(tp+fn), 5)\n",
    "    val_spec = round(tn/(tn+fp), 5)\n",
    "    val_f1 = round(f1(y_val,y_val_pred), 5)\n",
    "    \n",
    "    global pred_scor\n",
    "    \n",
    "    df = pred_scor\n",
    "\n",
    "    # Two different methods of updating the table\n",
    "    if overwrite and name in df[\"name\"].to_numpy():\n",
    "        df.loc[df[\"name\"] == name, [\"auc\"]] = val_auc\n",
    "        df.loc[df[\"name\"] == name, [\"sens\"]] = val_sens\n",
    "        df.loc[df[\"name\"] == name, [\"spec\"]] = val_spec\n",
    "        df.loc[df[\"name\"] == name, [\"f1\"]] = val_f1\n",
    "    else:\n",
    "        new = pd.DataFrame \\\n",
    "            (\n",
    "                { \"name\": [name]\n",
    "                , \"auc\": [val_auc]\n",
    "                , \"sens\": [val_sens]\n",
    "                , \"spec\": [val_spec]\n",
    "                , \"f1\": [val_f1]\n",
    "                }\n",
    "            )\n",
    "        \n",
    "        df = pred_scor.append(new)\n",
    "       \n",
    "    # Fix Pandas indexes\n",
    "    df.sort_values(by=['auc'], ascending=False, inplace=True)\n",
    "    df.reset_index(drop=True, inplace=True)\n",
    "    \n",
    "\n",
    "    # Assign back to the global scope\n",
    "    pred_scor = df\n",
    "    \n",
    "    if print_dataframe:\n",
    "        display(df)\n",
    "        \n",
    "    if save_dataframe:\n",
    "        df.to_csv(\"../../models/David/experiment_results.csv\")\n",
    "    \n",
    "    return None"
   ]
  },
  {
   "cell_type": "markdown",
   "metadata": {},
   "source": [
    "### Modelling"
   ]
  },
  {
   "cell_type": "markdown",
   "metadata": {},
   "source": [
    "#### Baseline"
   ]
  },
  {
   "cell_type": "code",
   "execution_count": 11,
   "metadata": {},
   "outputs": [
    {
     "name": "stderr",
     "output_type": "stream",
     "text": [
      "c:\\users\\david anker\\.virtualenvs\\mdsi_adsi_feb21_at1-n_gyw-cp\\lib\\site-packages\\ipykernel_launcher.py:40: FutureWarning: elementwise comparison failed; returning scalar instead, but in the future will perform elementwise comparison\n"
     ]
    },
    {
     "data": {
      "text/html": [
       "<div>\n",
       "<style scoped>\n",
       "    .dataframe tbody tr th:only-of-type {\n",
       "        vertical-align: middle;\n",
       "    }\n",
       "\n",
       "    .dataframe tbody tr th {\n",
       "        vertical-align: top;\n",
       "    }\n",
       "\n",
       "    .dataframe thead th {\n",
       "        text-align: right;\n",
       "    }\n",
       "</style>\n",
       "<table border=\"1\" class=\"dataframe\">\n",
       "  <thead>\n",
       "    <tr style=\"text-align: right;\">\n",
       "      <th></th>\n",
       "      <th>name</th>\n",
       "      <th>auc</th>\n",
       "      <th>sens</th>\n",
       "      <th>spec</th>\n",
       "      <th>f1</th>\n",
       "    </tr>\n",
       "  </thead>\n",
       "  <tbody>\n",
       "    <tr>\n",
       "      <th>0</th>\n",
       "      <td>Baseline</td>\n",
       "      <td>0.5</td>\n",
       "      <td>1.0</td>\n",
       "      <td>0.0</td>\n",
       "      <td>0.90926</td>\n",
       "    </tr>\n",
       "  </tbody>\n",
       "</table>\n",
       "</div>"
      ],
      "text/plain": [
       "       name  auc  sens  spec       f1\n",
       "0  Baseline  0.5   1.0   0.0  0.90926"
      ]
     },
     "metadata": {},
     "output_type": "display_data"
    }
   ],
   "source": [
    "# Generate actuals\n",
    "actuals = np.array(df_train['TARGET_5Yrs'])\n",
    "\n",
    "# Generate baseline, based on mode of target class\n",
    "random.seed(123)\n",
    "baseline = np.full(actuals.shape, mode(actuals))\n",
    "\n",
    "# Check performance\n",
    "save_perf(\"Baseline\", actuals, baseline, baseline)"
   ]
  },
  {
   "cell_type": "markdown",
   "metadata": {},
   "source": [
    "#### Logistic Regression - CV"
   ]
  },
  {
   "cell_type": "code",
   "execution_count": null,
   "metadata": {},
   "outputs": [],
   "source": [
    "# Create classifier\n",
    "from sklearn.linear_model import LogisticRegressionCV \n",
    "\n",
    "C_list = np.linspace(0.001, 0.5, 20)\n",
    "\n",
    "reg = LogisticRegressionCV(\n",
    "    Cs=C_list, \n",
    "    cv=20,\n",
    "    penalty='l1',\n",
    "    scoring='roc_auc', \n",
    "    solver='liblinear',\n",
    "    tol=1e-4, \n",
    "    max_iter=1000, \n",
    "    class_weight='balanced', \n",
    "    n_jobs=10,\n",
    "    verbose=2, \n",
    "    refit=True, \n",
    "    multi_class='ovr', \n",
    "    random_state=42)"
   ]
  },
  {
   "cell_type": "code",
   "execution_count": null,
   "metadata": {},
   "outputs": [],
   "source": [
    "fit_predict_save(reg, 'log_reg_cv_fe5', X_train, y_train, X_val, y_val)"
   ]
  },
  {
   "cell_type": "code",
   "execution_count": null,
   "metadata": {},
   "outputs": [],
   "source": [
    "plot_cm_roc(reg, X_val, y_val)"
   ]
  },
  {
   "cell_type": "code",
   "execution_count": null,
   "metadata": {},
   "outputs": [],
   "source": [
    "save_perf('log_reg_cv_fe5', y_val, y_val_pred, y_val_prob)"
   ]
  },
  {
   "cell_type": "markdown",
   "metadata": {},
   "source": [
    "#### XGBoost"
   ]
  },
  {
   "cell_type": "code",
   "execution_count": 12,
   "metadata": {},
   "outputs": [],
   "source": [
    "# Create classifier\n",
    "import xgboost as xgb\n",
    "\n",
    "data_dmatrix = xgb.DMatrix(data=X_train,label=y_train)\n",
    "\n",
    "reg = xgb.XGBClassifier(objective ='reg:squarederror', \n",
    "                        colsample_bytree = 0.3, \n",
    "                        learning_rate = 0.1,\n",
    "                        max_depth = 5, \n",
    "                        alpha = 10, \n",
    "                        n_estimators = 10)"
   ]
  },
  {
   "cell_type": "code",
   "execution_count": 13,
   "metadata": {},
   "outputs": [
    {
     "name": "stdout",
     "output_type": "stream",
     "text": [
      "\n",
      "ROC_AUC: 0.6969465913423214 \n",
      "\n"
     ]
    },
    {
     "name": "stderr",
     "output_type": "stream",
     "text": [
      "c:\\users\\david anker\\.virtualenvs\\mdsi_adsi_feb21_at1-n_gyw-cp\\lib\\site-packages\\xgboost\\sklearn.py:888: UserWarning: The use of label encoder in XGBClassifier is deprecated and will be removed in a future release. To remove this warning, do the following: 1) Pass option use_label_encoder=False when constructing XGBClassifier object; and 2) Encode your labels (y) as integers starting with 0, i.e. 0, 1, 2, ..., [num_class - 1].\n",
      "  warnings.warn(label_encoder_deprecation_msg, UserWarning)\n"
     ]
    }
   ],
   "source": [
    "fit_predict_save(reg, 'xgb', X_train, y_train, X_val, y_val)"
   ]
  },
  {
   "cell_type": "code",
   "execution_count": 14,
   "metadata": {},
   "outputs": [
    {
     "data": {
      "image/png": "[encoded data removed]",
      "text/plain": [
       "<Figure size 576x576 with 2 Axes>"
      ]
     },
     "metadata": {
      "needs_background": "light"
     },
     "output_type": "display_data"
    },
    {
     "data": {
      "image/png": "[encoded data removed]",
      "text/plain": [
       "<Figure size 432x288 with 1 Axes>"
      ]
     },
     "metadata": {
      "needs_background": "light"
     },
     "output_type": "display_data"
    }
   ],
   "source": [
    "plot_cm_roc(reg, X_val, y_val)"
   ]
  },
  {
   "cell_type": "code",
   "execution_count": 15,
   "metadata": {},
   "outputs": [
    {
     "data": {
      "text/html": [
       "<div>\n",
       "<style scoped>\n",
       "    .dataframe tbody tr th:only-of-type {\n",
       "        vertical-align: middle;\n",
       "    }\n",
       "\n",
       "    .dataframe tbody tr th {\n",
       "        vertical-align: top;\n",
       "    }\n",
       "\n",
       "    .dataframe thead th {\n",
       "        text-align: right;\n",
       "    }\n",
       "</style>\n",
       "<table border=\"1\" class=\"dataframe\">\n",
       "  <thead>\n",
       "    <tr style=\"text-align: right;\">\n",
       "      <th></th>\n",
       "      <th>name</th>\n",
       "      <th>auc</th>\n",
       "      <th>sens</th>\n",
       "      <th>spec</th>\n",
       "      <th>f1</th>\n",
       "    </tr>\n",
       "  </thead>\n",
       "  <tbody>\n",
       "    <tr>\n",
       "      <th>0</th>\n",
       "      <td>xgb</td>\n",
       "      <td>0.696947</td>\n",
       "      <td>0.99553</td>\n",
       "      <td>0.00775</td>\n",
       "      <td>0.91070</td>\n",
       "    </tr>\n",
       "    <tr>\n",
       "      <th>1</th>\n",
       "      <td>Baseline</td>\n",
       "      <td>0.500000</td>\n",
       "      <td>1.00000</td>\n",
       "      <td>0.00000</td>\n",
       "      <td>0.90926</td>\n",
       "    </tr>\n",
       "  </tbody>\n",
       "</table>\n",
       "</div>"
      ],
      "text/plain": [
       "       name       auc     sens     spec       f1\n",
       "0       xgb  0.696947  0.99553  0.00775  0.91070\n",
       "1  Baseline  0.500000  1.00000  0.00000  0.90926"
      ]
     },
     "metadata": {},
     "output_type": "display_data"
    }
   ],
   "source": [
    "save_perf('xgb', y_val, y_val_pred, y_val_prob)"
   ]
  },
  {
   "cell_type": "markdown",
   "metadata": {},
   "source": [
    "#### Hyperparameter tuning"
   ]
  },
  {
   "cell_type": "code",
   "execution_count": 19,
   "metadata": {
    "collapsed": true,
    "jupyter": {
     "outputs_hidden": true
    }
   },
   "outputs": [
    {
     "name": "stdout",
     "output_type": "stream",
     "text": [
      "[21:39:16] WARNING: C:/Users/Administrator/workspace/xgboost-win64_release_1.3.0/src/learner.cc:1061: Starting in XGBoost 1.3.0, the default evaluation metric used with the objective 'binary:logistic' was changed from 'error' to 'logloss'. Explicitly set eval_metric if you'd like to restore the old behavior.\n",
      "[21:39:17] WARNING: C:/Users/Administrator/workspace/xgboost-win64_release_1.3.0/src/learner.cc:1061: Starting in XGBoost 1.3.0, the default evaluation metric used with the objective 'binary:logistic' was changed from 'error' to 'logloss'. Explicitly set eval_metric if you'd like to restore the old behavior.\n",
      "[21:39:18] WARNING: C:/Users/Administrator/workspace/xgboost-win64_release_1.3.0/src/learner.cc:1061: Starting in XGBoost 1.3.0, the default evaluation metric used with the objective 'binary:logistic' was changed from 'error' to 'logloss'. Explicitly set eval_metric if you'd like to restore the old behavior.\n",
      "[21:39:19] WARNING: C:/Users/Administrator/workspace/xgboost-win64_release_1.3.0/src/learner.cc:1061: Starting in XGBoost 1.3.0, the default evaluation metric used with the objective 'binary:logistic' was changed from 'error' to 'logloss'. Explicitly set eval_metric if you'd like to restore the old behavior.\n",
      "[21:39:20] WARNING: C:/Users/Administrator/workspace/xgboost-win64_release_1.3.0/src/learner.cc:1061: Starting in XGBoost 1.3.0, the default evaluation metric used with the objective 'binary:logistic' was changed from 'error' to 'logloss'. Explicitly set eval_metric if you'd like to restore the old behavior.\n",
      "[21:39:21] WARNING: C:/Users/Administrator/workspace/xgboost-win64_release_1.3.0/src/learner.cc:1061: Starting in XGBoost 1.3.0, the default evaluation metric used with the objective 'binary:logistic' was changed from 'error' to 'logloss'. Explicitly set eval_metric if you'd like to restore the old behavior.\n",
      "[21:39:23] WARNING: C:/Users/Administrator/workspace/xgboost-win64_release_1.3.0/src/learner.cc:1061: Starting in XGBoost 1.3.0, the default evaluation metric used with the objective 'binary:logistic' was changed from 'error' to 'logloss'. Explicitly set eval_metric if you'd like to restore the old behavior.\n",
      "[21:39:24] WARNING: C:/Users/Administrator/workspace/xgboost-win64_release_1.3.0/src/learner.cc:1061: Starting in XGBoost 1.3.0, the default evaluation metric used with the objective 'binary:logistic' was changed from 'error' to 'logloss'. Explicitly set eval_metric if you'd like to restore the old behavior.\n",
      "[21:39:25] WARNING: C:/Users/Administrator/workspace/xgboost-win64_release_1.3.0/src/learner.cc:1061: Starting in XGBoost 1.3.0, the default evaluation metric used with the objective 'binary:logistic' was changed from 'error' to 'logloss'. Explicitly set eval_metric if you'd like to restore the old behavior.\n",
      "[21:39:26] WARNING: C:/Users/Administrator/workspace/xgboost-win64_release_1.3.0/src/learner.cc:1061: Starting in XGBoost 1.3.0, the default evaluation metric used with the objective 'binary:logistic' was changed from 'error' to 'logloss'. Explicitly set eval_metric if you'd like to restore the old behavior.\n",
      "[21:39:28] WARNING: C:/Users/Administrator/workspace/xgboost-win64_release_1.3.0/src/learner.cc:1061: Starting in XGBoost 1.3.0, the default evaluation metric used with the objective 'binary:logistic' was changed from 'error' to 'logloss'. Explicitly set eval_metric if you'd like to restore the old behavior.\n",
      "[21:39:29] WARNING: C:/Users/Administrator/workspace/xgboost-win64_release_1.3.0/src/learner.cc:1061: Starting in XGBoost 1.3.0, the default evaluation metric used with the objective 'binary:logistic' was changed from 'error' to 'logloss'. Explicitly set eval_metric if you'd like to restore the old behavior.\n",
      "[21:39:31] WARNING: C:/Users/Administrator/workspace/xgboost-win64_release_1.3.0/src/learner.cc:1061: Starting in XGBoost 1.3.0, the default evaluation metric used with the objective 'binary:logistic' was changed from 'error' to 'logloss'. Explicitly set eval_metric if you'd like to restore the old behavior.\n",
      "[21:39:32] WARNING: C:/Users/Administrator/workspace/xgboost-win64_release_1.3.0/src/learner.cc:1061: Starting in XGBoost 1.3.0, the default evaluation metric used with the objective 'binary:logistic' was changed from 'error' to 'logloss'. Explicitly set eval_metric if you'd like to restore the old behavior.\n",
      "[21:39:33] WARNING: C:/Users/Administrator/workspace/xgboost-win64_release_1.3.0/src/learner.cc:1061: Starting in XGBoost 1.3.0, the default evaluation metric used with the objective 'binary:logistic' was changed from 'error' to 'logloss'. Explicitly set eval_metric if you'd like to restore the old behavior.\n",
      "[21:39:34] WARNING: C:/Users/Administrator/workspace/xgboost-win64_release_1.3.0/src/learner.cc:1061: Starting in XGBoost 1.3.0, the default evaluation metric used with the objective 'binary:logistic' was changed from 'error' to 'logloss'. Explicitly set eval_metric if you'd like to restore the old behavior.\n",
      "[21:39:36] WARNING: C:/Users/Administrator/workspace/xgboost-win64_release_1.3.0/src/learner.cc:1061: Starting in XGBoost 1.3.0, the default evaluation metric used with the objective 'binary:logistic' was changed from 'error' to 'logloss'. Explicitly set eval_metric if you'd like to restore the old behavior.\n",
      "[21:39:37] WARNING: C:/Users/Administrator/workspace/xgboost-win64_release_1.3.0/src/learner.cc:1061: Starting in XGBoost 1.3.0, the default evaluation metric used with the objective 'binary:logistic' was changed from 'error' to 'logloss'. Explicitly set eval_metric if you'd like to restore the old behavior.\n",
      "[21:39:39] WARNING: C:/Users/Administrator/workspace/xgboost-win64_release_1.3.0/src/learner.cc:1061: Starting in XGBoost 1.3.0, the default evaluation metric used with the objective 'binary:logistic' was changed from 'error' to 'logloss'. Explicitly set eval_metric if you'd like to restore the old behavior.\n",
      "[21:39:40] WARNING: C:/Users/Administrator/workspace/xgboost-win64_release_1.3.0/src/learner.cc:1061: Starting in XGBoost 1.3.0, the default evaluation metric used with the objective 'binary:logistic' was changed from 'error' to 'logloss'. Explicitly set eval_metric if you'd like to restore the old behavior.\n",
      "[21:39:42] WARNING: C:/Users/Administrator/workspace/xgboost-win64_release_1.3.0/src/learner.cc:1061: Starting in XGBoost 1.3.0, the default evaluation metric used with the objective 'binary:logistic' was changed from 'error' to 'logloss'. Explicitly set eval_metric if you'd like to restore the old behavior.\n",
      "[21:39:42] WARNING: C:/Users/Administrator/workspace/xgboost-win64_release_1.3.0/src/learner.cc:1061: Starting in XGBoost 1.3.0, the default evaluation metric used with the objective 'binary:logistic' was changed from 'error' to 'logloss'. Explicitly set eval_metric if you'd like to restore the old behavior.\n",
      "[21:39:43] WARNING: C:/Users/Administrator/workspace/xgboost-win64_release_1.3.0/src/learner.cc:1061: Starting in XGBoost 1.3.0, the default evaluation metric used with the objective 'binary:logistic' was changed from 'error' to 'logloss'. Explicitly set eval_metric if you'd like to restore the old behavior.\n",
      "[21:39:44] WARNING: C:/Users/Administrator/workspace/xgboost-win64_release_1.3.0/src/learner.cc:1061: Starting in XGBoost 1.3.0, the default evaluation metric used with the objective 'binary:logistic' was changed from 'error' to 'logloss'. Explicitly set eval_metric if you'd like to restore the old behavior.\n",
      "[21:39:45] WARNING: C:/Users/Administrator/workspace/xgboost-win64_release_1.3.0/src/learner.cc:1061: Starting in XGBoost 1.3.0, the default evaluation metric used with the objective 'binary:logistic' was changed from 'error' to 'logloss'. Explicitly set eval_metric if you'd like to restore the old behavior.\n",
      "[21:39:45] WARNING: C:/Users/Administrator/workspace/xgboost-win64_release_1.3.0/src/learner.cc:1061: Starting in XGBoost 1.3.0, the default evaluation metric used with the objective 'binary:logistic' was changed from 'error' to 'logloss'. Explicitly set eval_metric if you'd like to restore the old behavior.\n",
      "[21:39:46] WARNING: C:/Users/Administrator/workspace/xgboost-win64_release_1.3.0/src/learner.cc:1061: Starting in XGBoost 1.3.0, the default evaluation metric used with the objective 'binary:logistic' was changed from 'error' to 'logloss'. Explicitly set eval_metric if you'd like to restore the old behavior.\n",
      "[21:39:47] WARNING: C:/Users/Administrator/workspace/xgboost-win64_release_1.3.0/src/learner.cc:1061: Starting in XGBoost 1.3.0, the default evaluation metric used with the objective 'binary:logistic' was changed from 'error' to 'logloss'. Explicitly set eval_metric if you'd like to restore the old behavior.\n",
      "[21:39:48] WARNING: C:/Users/Administrator/workspace/xgboost-win64_release_1.3.0/src/learner.cc:1061: Starting in XGBoost 1.3.0, the default evaluation metric used with the objective 'binary:logistic' was changed from 'error' to 'logloss'. Explicitly set eval_metric if you'd like to restore the old behavior.\n",
      "[21:39:49] WARNING: C:/Users/Administrator/workspace/xgboost-win64_release_1.3.0/src/learner.cc:1061: Starting in XGBoost 1.3.0, the default evaluation metric used with the objective 'binary:logistic' was changed from 'error' to 'logloss'. Explicitly set eval_metric if you'd like to restore the old behavior.\n",
      "[21:39:49] WARNING: C:/Users/Administrator/workspace/xgboost-win64_release_1.3.0/src/learner.cc:1061: Starting in XGBoost 1.3.0, the default evaluation metric used with the objective 'binary:logistic' was changed from 'error' to 'logloss'. Explicitly set eval_metric if you'd like to restore the old behavior.\n",
      "[21:39:50] WARNING: C:/Users/Administrator/workspace/xgboost-win64_release_1.3.0/src/learner.cc:1061: Starting in XGBoost 1.3.0, the default evaluation metric used with the objective 'binary:logistic' was changed from 'error' to 'logloss'. Explicitly set eval_metric if you'd like to restore the old behavior.\n",
      "[21:39:51] WARNING: C:/Users/Administrator/workspace/xgboost-win64_release_1.3.0/src/learner.cc:1061: Starting in XGBoost 1.3.0, the default evaluation metric used with the objective 'binary:logistic' was changed from 'error' to 'logloss'. Explicitly set eval_metric if you'd like to restore the old behavior.\n",
      "[21:39:51] WARNING: C:/Users/Administrator/workspace/xgboost-win64_release_1.3.0/src/learner.cc:1061: Starting in XGBoost 1.3.0, the default evaluation metric used with the objective 'binary:logistic' was changed from 'error' to 'logloss'. Explicitly set eval_metric if you'd like to restore the old behavior.\n",
      "[21:39:52] WARNING: C:/Users/Administrator/workspace/xgboost-win64_release_1.3.0/src/learner.cc:1061: Starting in XGBoost 1.3.0, the default evaluation metric used with the objective 'binary:logistic' was changed from 'error' to 'logloss'. Explicitly set eval_metric if you'd like to restore the old behavior.\n",
      "[21:39:53] WARNING: C:/Users/Administrator/workspace/xgboost-win64_release_1.3.0/src/learner.cc:1061: Starting in XGBoost 1.3.0, the default evaluation metric used with the objective 'binary:logistic' was changed from 'error' to 'logloss'. Explicitly set eval_metric if you'd like to restore the old behavior.\n",
      "[21:39:54] WARNING: C:/Users/Administrator/workspace/xgboost-win64_release_1.3.0/src/learner.cc:1061: Starting in XGBoost 1.3.0, the default evaluation metric used with the objective 'binary:logistic' was changed from 'error' to 'logloss'. Explicitly set eval_metric if you'd like to restore the old behavior.\n",
      "[21:39:54] WARNING: C:/Users/Administrator/workspace/xgboost-win64_release_1.3.0/src/learner.cc:1061: Starting in XGBoost 1.3.0, the default evaluation metric used with the objective 'binary:logistic' was changed from 'error' to 'logloss'. Explicitly set eval_metric if you'd like to restore the old behavior.\n",
      "[21:39:55] WARNING: C:/Users/Administrator/workspace/xgboost-win64_release_1.3.0/src/learner.cc:1061: Starting in XGBoost 1.3.0, the default evaluation metric used with the objective 'binary:logistic' was changed from 'error' to 'logloss'. Explicitly set eval_metric if you'd like to restore the old behavior.\n",
      "[21:39:55] WARNING: C:/Users/Administrator/workspace/xgboost-win64_release_1.3.0/src/learner.cc:1061: Starting in XGBoost 1.3.0, the default evaluation metric used with the objective 'binary:logistic' was changed from 'error' to 'logloss'. Explicitly set eval_metric if you'd like to restore the old behavior.\n",
      "[21:39:56] WARNING: C:/Users/Administrator/workspace/xgboost-win64_release_1.3.0/src/learner.cc:1061: Starting in XGBoost 1.3.0, the default evaluation metric used with the objective 'binary:logistic' was changed from 'error' to 'logloss'. Explicitly set eval_metric if you'd like to restore the old behavior.\n",
      "[21:39:58] WARNING: C:/Users/Administrator/workspace/xgboost-win64_release_1.3.0/src/learner.cc:1061: Starting in XGBoost 1.3.0, the default evaluation metric used with the objective 'binary:logistic' was changed from 'error' to 'logloss'. Explicitly set eval_metric if you'd like to restore the old behavior.\n",
      "[21:39:59] WARNING: C:/Users/Administrator/workspace/xgboost-win64_release_1.3.0/src/learner.cc:1061: Starting in XGBoost 1.3.0, the default evaluation metric used with the objective 'binary:logistic' was changed from 'error' to 'logloss'. Explicitly set eval_metric if you'd like to restore the old behavior.\n",
      "[21:40:00] WARNING: C:/Users/Administrator/workspace/xgboost-win64_release_1.3.0/src/learner.cc:1061: Starting in XGBoost 1.3.0, the default evaluation metric used with the objective 'binary:logistic' was changed from 'error' to 'logloss'. Explicitly set eval_metric if you'd like to restore the old behavior.\n",
      "[21:40:02] WARNING: C:/Users/Administrator/workspace/xgboost-win64_release_1.3.0/src/learner.cc:1061: Starting in XGBoost 1.3.0, the default evaluation metric used with the objective 'binary:logistic' was changed from 'error' to 'logloss'. Explicitly set eval_metric if you'd like to restore the old behavior.\n",
      "[21:40:03] WARNING: C:/Users/Administrator/workspace/xgboost-win64_release_1.3.0/src/learner.cc:1061: Starting in XGBoost 1.3.0, the default evaluation metric used with the objective 'binary:logistic' was changed from 'error' to 'logloss'. Explicitly set eval_metric if you'd like to restore the old behavior.\n",
      "[21:40:05] WARNING: C:/Users/Administrator/workspace/xgboost-win64_release_1.3.0/src/learner.cc:1061: Starting in XGBoost 1.3.0, the default evaluation metric used with the objective 'binary:logistic' was changed from 'error' to 'logloss'. Explicitly set eval_metric if you'd like to restore the old behavior.\n",
      "[21:40:06] WARNING: C:/Users/Administrator/workspace/xgboost-win64_release_1.3.0/src/learner.cc:1061: Starting in XGBoost 1.3.0, the default evaluation metric used with the objective 'binary:logistic' was changed from 'error' to 'logloss'. Explicitly set eval_metric if you'd like to restore the old behavior.\n",
      "[21:40:08] WARNING: C:/Users/Administrator/workspace/xgboost-win64_release_1.3.0/src/learner.cc:1061: Starting in XGBoost 1.3.0, the default evaluation metric used with the objective 'binary:logistic' was changed from 'error' to 'logloss'. Explicitly set eval_metric if you'd like to restore the old behavior.\n",
      "[21:40:09] WARNING: C:/Users/Administrator/workspace/xgboost-win64_release_1.3.0/src/learner.cc:1061: Starting in XGBoost 1.3.0, the default evaluation metric used with the objective 'binary:logistic' was changed from 'error' to 'logloss'. Explicitly set eval_metric if you'd like to restore the old behavior.\n",
      "100%|███████████████████████████████████████████████████████████████████████████████████████████████████████| 5/5 [00:54<00:00, 10.97s/trial, best loss: 0.1691666666666667]\n",
      "Best:  {'colsample_bytree': 0.8500000000000001, 'learning_rate': 0.05, 'max_depth': 2, 'min_child_weight': 2.0, 'subsample': 0.7000000000000001}\n"
     ]
    }
   ],
   "source": [
    "#Optimise using hyperopt\n",
    "from hyperopt import Trials, STATUS_OK, tpe, hp, fmin\n",
    "\n",
    "space = {\n",
    "    'max_depth' : hp.choice('max_depth', range(5, 20, 1)),\n",
    "    'learning_rate' : hp.quniform('learning_rate', 0.01, 0.5, 0.05),\n",
    "    'min_child_weight' : hp.quniform('min_child_weight', 1, 10, 1),\n",
    "    'subsample' : hp.quniform('subsample', 0.1, 1, 0.05),\n",
    "    'colsample_bytree' : hp.quniform('colsample_bytree', 0.1, 1.0, 0.05)\n",
    "}\n",
    "\n",
    "def objective(space):\n",
    "    from sklearn.model_selection import cross_val_score\n",
    "    \n",
    "    reg = xgb.XGBClassifier(\n",
    "        max_depth = int(space['max_depth']),\n",
    "        learning_rate = space['learning_rate'],\n",
    "        min_child_weight = space['min_child_weight'],\n",
    "        subsample = space['subsample'],\n",
    "        colsample_bytree = space['colsample_bytree'],\n",
    "        use_label_encoder=False,\n",
    "        #eval_metric=binary:logistic\n",
    "    )\n",
    "    \n",
    "    acc = cross_val_score(reg, X_train, y_train, cv=10, scoring=\"accuracy\").mean()\n",
    "\n",
    "    return{'loss': 1-acc, 'status': STATUS_OK }\n",
    "\n",
    "best = fmin(\n",
    "    fn=objective,   \n",
    "    space=space,       \n",
    "    algo=tpe.suggest,       \n",
    "    max_evals=5\n",
    ")\n",
    "\n",
    "print(\"Best: \", best)"
   ]
  },
  {
   "cell_type": "code",
   "execution_count": 38,
   "metadata": {},
   "outputs": [],
   "source": [
    "# Model with hypoeropt parameters\n",
    "\n",
    "data_dmatrix = xgb.DMatrix(data=X_train,label=y_train)\n",
    "\n",
    "reg = xgb.XGBClassifier(objective ='binary:logistic', \n",
    "                        colsample_bytree = 0.85, \n",
    "                        learning_rate = 0.05,\n",
    "                        max_depth = 2,\n",
    "                        min_child_weight=2,\n",
    "                        subsample=0.7,\n",
    "                        alpha = 10,\n",
    "                        n_estimators = 10)"
   ]
  },
  {
   "cell_type": "code",
   "execution_count": 89,
   "metadata": {},
   "outputs": [],
   "source": [
    "# Cross-validated alternative\n",
    "\n",
    "from xgboost import XGBClassifier\n",
    "from sklearn.model_selection import RandomizedSearchCV\n",
    "#from sklearn.metrics import f1_score\n",
    "\n",
    "clf_xgb = XGBClassifier(objective = 'binary:logistic')\n",
    "\n",
    "param_dist = {'n_estimators': stats.randint(150, 500),\n",
    "              'learning_rate': stats.uniform(0.001, 0.01),\n",
    "              'subsample': stats.uniform(0.3, 0.7),\n",
    "              'max_depth': [2, 3],\n",
    "              'colsample_bytree': stats.uniform(0.5, 0.45),\n",
    "              'min_child_weight': [1, 2, 3],\n",
    "              'lambda': [1, 2, 3],\n",
    "              'alpha': [0,1,2],\n",
    "              'gamma':[0,1,2]\n",
    "             }\n",
    "\n",
    "reg = RandomizedSearchCV(clf_xgb, \n",
    "                         param_distributions = param_dist, \n",
    "                         n_iter = 20, \n",
    "                         scoring = 'roc_auc', \n",
    "                         verbose = 3, \n",
    "                         n_jobs = -1, \n",
    "                         cv=10)\n"
   ]
  },
  {
   "cell_type": "code",
   "execution_count": 90,
   "metadata": {},
   "outputs": [
    {
     "name": "stdout",
     "output_type": "stream",
     "text": [
      "Fitting 10 folds for each of 20 candidates, totalling 200 fits\n"
     ]
    },
    {
     "name": "stderr",
     "output_type": "stream",
     "text": [
      "c:\\users\\david anker\\.virtualenvs\\mdsi_adsi_feb21_at1-n_gyw-cp\\lib\\site-packages\\xgboost\\sklearn.py:888: UserWarning: The use of label encoder in XGBClassifier is deprecated and will be removed in a future release. To remove this warning, do the following: 1) Pass option use_label_encoder=False when constructing XGBClassifier object; and 2) Encode your labels (y) as integers starting with 0, i.e. 0, 1, 2, ..., [num_class - 1].\n",
      "  warnings.warn(label_encoder_deprecation_msg, UserWarning)\n"
     ]
    },
    {
     "name": "stdout",
     "output_type": "stream",
     "text": [
      "[23:36:53] WARNING: C:/Users/Administrator/workspace/xgboost-win64_release_1.3.0/src/learner.cc:1061: Starting in XGBoost 1.3.0, the default evaluation metric used with the objective 'binary:logistic' was changed from 'error' to 'logloss'. Explicitly set eval_metric if you'd like to restore the old behavior.\n",
      "\n",
      "ROC_AUC: 0.6879353966658579 \n",
      "\n"
     ]
    }
   ],
   "source": [
    "fit_predict_save(reg, 'xgb_cv', X_train_res, y_train_res, X_val, y_val)"
   ]
  },
  {
   "cell_type": "code",
   "execution_count": 81,
   "metadata": {},
   "outputs": [
    {
     "data": {
      "image/png": "[encoded data removed]",
      "text/plain": [
       "<Figure size 576x576 with 2 Axes>"
      ]
     },
     "metadata": {
      "needs_background": "light"
     },
     "output_type": "display_data"
    },
    {
     "data": {
      "image/png": "[encoded data removed]",
      "text/plain": [
       "<Figure size 432x288 with 1 Axes>"
      ]
     },
     "metadata": {
      "needs_background": "light"
     },
     "output_type": "display_data"
    }
   ],
   "source": [
    "plot_cm_roc(reg, X_val, y_val)"
   ]
  },
  {
   "cell_type": "markdown",
   "metadata": {},
   "source": [
    "### Model interpretation"
   ]
  },
  {
   "cell_type": "markdown",
   "metadata": {},
   "source": [
    "#### Permutation"
   ]
  },
  {
   "cell_type": "code",
   "execution_count": null,
   "metadata": {},
   "outputs": [],
   "source": [
    "# Variable importance by permutation\n",
    "from mlxtend.evaluate import feature_importance_permutation\n",
    "\n",
    "imp_vals, imp_all = feature_importance_permutation(predict_method = reg.predict,\n",
    "                                             X = X_val,\n",
    "                                             y = y_val,\n",
    "                                             metric = 'accuracy',\n",
    "                                             num_rounds = 10,\n",
    "                                             seed = 1)\n",
    "\n",
    "# Visualise (from user guide)\n",
    "std = np.std(imp_all, axis=1)\n",
    "indices = np.argsort(imp_vals)[::-1]\n",
    "\n",
    "plt.figure()\n",
    "plt.title(\"Feature importance via permutation importance w. std. dev.\")\n",
    "plt.bar(range(X_val.shape[1]), imp_vals[indices],\n",
    "        yerr=std[indices])\n",
    "plt.xticks(range(X_val.shape[1]), indices)\n",
    "plt.xlim([-1, X_val.shape[1]])\n",
    "plt.show()"
   ]
  },
  {
   "cell_type": "markdown",
   "metadata": {},
   "source": [
    "#### LIME"
   ]
  },
  {
   "cell_type": "code",
   "execution_count": null,
   "metadata": {},
   "outputs": [],
   "source": [
    "import lime\n",
    "import lime.lime_tabular\n",
    "\n",
    "feature_names = list(df_train.columns[:-1])\n",
    "\n",
    "explainer = lime.lime_tabular.LimeTabularExplainer(X_train,\n",
    "                                                   feature_names=feature_names,\n",
    "                                                   class_names=[\"0\",\"1\"],\n",
    "                                                   mode='classification')\n",
    "\n",
    "exp = explainer.explain_instance(X_val[15],\n",
    "                                 reg.predict_proba,\n",
    "                                 top_labels=1,\n",
    "                                 num_features=20)\n",
    "\n",
    "exp.show_in_notebook(show_all=False)"
   ]
  },
  {
   "cell_type": "markdown",
   "metadata": {},
   "source": [
    "## Test"
   ]
  },
  {
   "cell_type": "code",
   "execution_count": null,
   "metadata": {},
   "outputs": [],
   "source": [
    "# Predict target probabilities\n",
    "test_probs = reg.predict_proba(X_test)[:,1]"
   ]
  },
  {
   "cell_type": "code",
   "execution_count": null,
   "metadata": {},
   "outputs": [],
   "source": [
    "# Create dataframe object\n",
    "test_probs_df = pd.DataFrame(test_probs, columns = [\"TARGET_5Yrs\"])\n",
    "\n",
    "# Name 'ID' column\n",
    "test_probs_df.index.name = \"Id\""
   ]
  },
  {
   "cell_type": "code",
   "execution_count": null,
   "metadata": {},
   "outputs": [],
   "source": [
    "# Save model predictions on test data to .csv for import into Kaggle\n",
    "test_probs_df.to_csv(\"../../reports/David/kaggle_sub.csv\")"
   ]
  }
 ],
 "metadata": {
  "kernelspec": {
   "display_name": "Python 3",
   "language": "python",
   "name": "python3"
  },
  "language_info": {
   "codemirror_mode": {
    "name": "ipython",
    "version": 3
   },
   "file_extension": ".py",
   "mimetype": "text/x-python",
   "name": "python",
   "nbconvert_exporter": "python",
   "pygments_lexer": "ipython3",
   "version": "3.7.9"
  }
 },
 "nbformat": 4,
 "nbformat_minor": 4
}
