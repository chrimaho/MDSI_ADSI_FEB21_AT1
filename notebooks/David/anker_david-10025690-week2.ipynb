{
 "cells": [
  {
   "cell_type": "markdown",
   "metadata": {},
   "source": [
    "# The Future of Basketball Players"
   ]
  },
  {
   "cell_type": "markdown",
   "metadata": {},
   "source": [
    "## Set up environment"
   ]
  },
  {
   "cell_type": "code",
   "execution_count": 42,
   "metadata": {},
   "outputs": [],
   "source": [
    "# Load modules\n",
    "import pandas as pd\n",
    "import numpy as np\n",
    "from joblib import dump\n",
    "from joblib import load\n",
    "from sklearn.metrics import confusion_matrix\n",
    "from sklearn.metrics import plot_confusion_matrix\n",
    "from sklearn.metrics import plot_roc_curve\n",
    "from sklearn.metrics import roc_auc_score\n",
    "import matplotlib.pyplot as plt \n",
    "from pandas_profiling import ProfileReport"
   ]
  },
  {
   "cell_type": "markdown",
   "metadata": {},
   "source": [
    "## Get data"
   ]
  },
  {
   "cell_type": "code",
   "execution_count": 43,
   "metadata": {},
   "outputs": [
    {
     "data": {
      "text/html": [
       "<div>\n",
       "<style scoped>\n",
       "    .dataframe tbody tr th:only-of-type {\n",
       "        vertical-align: middle;\n",
       "    }\n",
       "\n",
       "    .dataframe tbody tr th {\n",
       "        vertical-align: top;\n",
       "    }\n",
       "\n",
       "    .dataframe thead th {\n",
       "        text-align: right;\n",
       "    }\n",
       "</style>\n",
       "<table border=\"1\" class=\"dataframe\">\n",
       "  <thead>\n",
       "    <tr style=\"text-align: right;\">\n",
       "      <th></th>\n",
       "      <th>Id_old</th>\n",
       "      <th>Id</th>\n",
       "      <th>GP</th>\n",
       "      <th>MIN</th>\n",
       "      <th>PTS</th>\n",
       "      <th>FGM</th>\n",
       "      <th>FGA</th>\n",
       "      <th>FG%</th>\n",
       "      <th>3P_Made</th>\n",
       "      <th>3PA</th>\n",
       "      <th>3P%</th>\n",
       "      <th>FTM</th>\n",
       "      <th>FTA</th>\n",
       "      <th>FT%</th>\n",
       "      <th>OREB</th>\n",
       "      <th>DREB</th>\n",
       "      <th>REB</th>\n",
       "      <th>AST</th>\n",
       "      <th>STL</th>\n",
       "      <th>BLK</th>\n",
       "      <th>TOV</th>\n",
       "      <th>TARGET_5Yrs</th>\n",
       "    </tr>\n",
       "  </thead>\n",
       "  <tbody>\n",
       "    <tr>\n",
       "      <th>0</th>\n",
       "      <td>10556</td>\n",
       "      <td>3799</td>\n",
       "      <td>80</td>\n",
       "      <td>24.3</td>\n",
       "      <td>7.8</td>\n",
       "      <td>3.0</td>\n",
       "      <td>6.4</td>\n",
       "      <td>45.7</td>\n",
       "      <td>0.1</td>\n",
       "      <td>0.3</td>\n",
       "      <td>22.6</td>\n",
       "      <td>2.0</td>\n",
       "      <td>2.9</td>\n",
       "      <td>72.1</td>\n",
       "      <td>2.2</td>\n",
       "      <td>2.0</td>\n",
       "      <td>3.8</td>\n",
       "      <td>3.2</td>\n",
       "      <td>1.1</td>\n",
       "      <td>0.2</td>\n",
       "      <td>1.6</td>\n",
       "      <td>1</td>\n",
       "    </tr>\n",
       "    <tr>\n",
       "      <th>1</th>\n",
       "      <td>5342</td>\n",
       "      <td>3800</td>\n",
       "      <td>75</td>\n",
       "      <td>21.8</td>\n",
       "      <td>10.5</td>\n",
       "      <td>4.2</td>\n",
       "      <td>7.9</td>\n",
       "      <td>55.1</td>\n",
       "      <td>-0.3</td>\n",
       "      <td>-1.0</td>\n",
       "      <td>34.9</td>\n",
       "      <td>2.4</td>\n",
       "      <td>3.6</td>\n",
       "      <td>67.8</td>\n",
       "      <td>3.6</td>\n",
       "      <td>3.7</td>\n",
       "      <td>6.6</td>\n",
       "      <td>0.7</td>\n",
       "      <td>0.5</td>\n",
       "      <td>0.6</td>\n",
       "      <td>1.4</td>\n",
       "      <td>1</td>\n",
       "    </tr>\n",
       "    <tr>\n",
       "      <th>2</th>\n",
       "      <td>5716</td>\n",
       "      <td>3801</td>\n",
       "      <td>85</td>\n",
       "      <td>19.1</td>\n",
       "      <td>4.5</td>\n",
       "      <td>1.9</td>\n",
       "      <td>4.5</td>\n",
       "      <td>42.8</td>\n",
       "      <td>0.4</td>\n",
       "      <td>1.2</td>\n",
       "      <td>34.3</td>\n",
       "      <td>0.4</td>\n",
       "      <td>0.6</td>\n",
       "      <td>75.7</td>\n",
       "      <td>0.6</td>\n",
       "      <td>1.8</td>\n",
       "      <td>2.4</td>\n",
       "      <td>0.8</td>\n",
       "      <td>0.4</td>\n",
       "      <td>0.2</td>\n",
       "      <td>0.6</td>\n",
       "      <td>1</td>\n",
       "    </tr>\n",
       "    <tr>\n",
       "      <th>3</th>\n",
       "      <td>13790</td>\n",
       "      <td>3802</td>\n",
       "      <td>63</td>\n",
       "      <td>19.1</td>\n",
       "      <td>8.2</td>\n",
       "      <td>3.5</td>\n",
       "      <td>6.7</td>\n",
       "      <td>52.5</td>\n",
       "      <td>0.3</td>\n",
       "      <td>0.8</td>\n",
       "      <td>23.7</td>\n",
       "      <td>0.9</td>\n",
       "      <td>1.5</td>\n",
       "      <td>66.9</td>\n",
       "      <td>0.8</td>\n",
       "      <td>2.0</td>\n",
       "      <td>3.0</td>\n",
       "      <td>1.8</td>\n",
       "      <td>0.4</td>\n",
       "      <td>0.1</td>\n",
       "      <td>1.9</td>\n",
       "      <td>1</td>\n",
       "    </tr>\n",
       "    <tr>\n",
       "      <th>4</th>\n",
       "      <td>5470</td>\n",
       "      <td>3803</td>\n",
       "      <td>63</td>\n",
       "      <td>17.8</td>\n",
       "      <td>3.7</td>\n",
       "      <td>1.7</td>\n",
       "      <td>3.4</td>\n",
       "      <td>50.8</td>\n",
       "      <td>0.5</td>\n",
       "      <td>1.4</td>\n",
       "      <td>13.7</td>\n",
       "      <td>0.2</td>\n",
       "      <td>0.5</td>\n",
       "      <td>54.0</td>\n",
       "      <td>2.4</td>\n",
       "      <td>2.7</td>\n",
       "      <td>4.9</td>\n",
       "      <td>0.4</td>\n",
       "      <td>0.4</td>\n",
       "      <td>0.6</td>\n",
       "      <td>0.7</td>\n",
       "      <td>1</td>\n",
       "    </tr>\n",
       "    <tr>\n",
       "      <th>...</th>\n",
       "      <td>...</td>\n",
       "      <td>...</td>\n",
       "      <td>...</td>\n",
       "      <td>...</td>\n",
       "      <td>...</td>\n",
       "      <td>...</td>\n",
       "      <td>...</td>\n",
       "      <td>...</td>\n",
       "      <td>...</td>\n",
       "      <td>...</td>\n",
       "      <td>...</td>\n",
       "      <td>...</td>\n",
       "      <td>...</td>\n",
       "      <td>...</td>\n",
       "      <td>...</td>\n",
       "      <td>...</td>\n",
       "      <td>...</td>\n",
       "      <td>...</td>\n",
       "      <td>...</td>\n",
       "      <td>...</td>\n",
       "      <td>...</td>\n",
       "      <td>...</td>\n",
       "    </tr>\n",
       "    <tr>\n",
       "      <th>7995</th>\n",
       "      <td>2996</td>\n",
       "      <td>11794</td>\n",
       "      <td>32</td>\n",
       "      <td>9.2</td>\n",
       "      <td>1.8</td>\n",
       "      <td>0.7</td>\n",
       "      <td>1.8</td>\n",
       "      <td>40.3</td>\n",
       "      <td>-0.1</td>\n",
       "      <td>-0.2</td>\n",
       "      <td>23.1</td>\n",
       "      <td>0.4</td>\n",
       "      <td>0.6</td>\n",
       "      <td>65.7</td>\n",
       "      <td>0.3</td>\n",
       "      <td>1.8</td>\n",
       "      <td>1.9</td>\n",
       "      <td>0.5</td>\n",
       "      <td>0.3</td>\n",
       "      <td>0.2</td>\n",
       "      <td>0.4</td>\n",
       "      <td>1</td>\n",
       "    </tr>\n",
       "    <tr>\n",
       "      <th>7996</th>\n",
       "      <td>11679</td>\n",
       "      <td>11795</td>\n",
       "      <td>54</td>\n",
       "      <td>6.0</td>\n",
       "      <td>1.8</td>\n",
       "      <td>0.7</td>\n",
       "      <td>1.4</td>\n",
       "      <td>48.7</td>\n",
       "      <td>0.1</td>\n",
       "      <td>0.1</td>\n",
       "      <td>3.1</td>\n",
       "      <td>0.2</td>\n",
       "      <td>0.4</td>\n",
       "      <td>70.1</td>\n",
       "      <td>1.0</td>\n",
       "      <td>1.1</td>\n",
       "      <td>2.0</td>\n",
       "      <td>0.1</td>\n",
       "      <td>0.0</td>\n",
       "      <td>0.3</td>\n",
       "      <td>0.3</td>\n",
       "      <td>1</td>\n",
       "    </tr>\n",
       "    <tr>\n",
       "      <th>7997</th>\n",
       "      <td>5537</td>\n",
       "      <td>11796</td>\n",
       "      <td>85</td>\n",
       "      <td>28.2</td>\n",
       "      <td>10.7</td>\n",
       "      <td>4.0</td>\n",
       "      <td>9.0</td>\n",
       "      <td>45.1</td>\n",
       "      <td>0.2</td>\n",
       "      <td>0.6</td>\n",
       "      <td>23.6</td>\n",
       "      <td>2.8</td>\n",
       "      <td>3.9</td>\n",
       "      <td>69.7</td>\n",
       "      <td>1.0</td>\n",
       "      <td>2.1</td>\n",
       "      <td>3.1</td>\n",
       "      <td>3.4</td>\n",
       "      <td>1.2</td>\n",
       "      <td>0.2</td>\n",
       "      <td>1.8</td>\n",
       "      <td>1</td>\n",
       "    </tr>\n",
       "    <tr>\n",
       "      <th>7998</th>\n",
       "      <td>1292</td>\n",
       "      <td>11797</td>\n",
       "      <td>39</td>\n",
       "      <td>7.7</td>\n",
       "      <td>2.5</td>\n",
       "      <td>1.0</td>\n",
       "      <td>2.3</td>\n",
       "      <td>40.1</td>\n",
       "      <td>-0.3</td>\n",
       "      <td>-0.5</td>\n",
       "      <td>13.3</td>\n",
       "      <td>0.6</td>\n",
       "      <td>0.7</td>\n",
       "      <td>74.3</td>\n",
       "      <td>0.4</td>\n",
       "      <td>0.6</td>\n",
       "      <td>0.9</td>\n",
       "      <td>0.2</td>\n",
       "      <td>0.3</td>\n",
       "      <td>0.3</td>\n",
       "      <td>0.5</td>\n",
       "      <td>1</td>\n",
       "    </tr>\n",
       "    <tr>\n",
       "      <th>7999</th>\n",
       "      <td>2900</td>\n",
       "      <td>11798</td>\n",
       "      <td>49</td>\n",
       "      <td>19.2</td>\n",
       "      <td>4.8</td>\n",
       "      <td>1.7</td>\n",
       "      <td>5.1</td>\n",
       "      <td>32.6</td>\n",
       "      <td>0.7</td>\n",
       "      <td>2.4</td>\n",
       "      <td>41.3</td>\n",
       "      <td>0.8</td>\n",
       "      <td>1.3</td>\n",
       "      <td>70.1</td>\n",
       "      <td>0.1</td>\n",
       "      <td>1.1</td>\n",
       "      <td>1.2</td>\n",
       "      <td>3.5</td>\n",
       "      <td>0.9</td>\n",
       "      <td>-0.3</td>\n",
       "      <td>1.4</td>\n",
       "      <td>1</td>\n",
       "    </tr>\n",
       "  </tbody>\n",
       "</table>\n",
       "<p>8000 rows × 22 columns</p>\n",
       "</div>"
      ],
      "text/plain": [
       "      Id_old     Id  GP   MIN   PTS  FGM  FGA   FG%  3P_Made  3PA   3P%  FTM  \\\n",
       "0      10556   3799  80  24.3   7.8  3.0  6.4  45.7      0.1  0.3  22.6  2.0   \n",
       "1       5342   3800  75  21.8  10.5  4.2  7.9  55.1     -0.3 -1.0  34.9  2.4   \n",
       "2       5716   3801  85  19.1   4.5  1.9  4.5  42.8      0.4  1.2  34.3  0.4   \n",
       "3      13790   3802  63  19.1   8.2  3.5  6.7  52.5      0.3  0.8  23.7  0.9   \n",
       "4       5470   3803  63  17.8   3.7  1.7  3.4  50.8      0.5  1.4  13.7  0.2   \n",
       "...      ...    ...  ..   ...   ...  ...  ...   ...      ...  ...   ...  ...   \n",
       "7995    2996  11794  32   9.2   1.8  0.7  1.8  40.3     -0.1 -0.2  23.1  0.4   \n",
       "7996   11679  11795  54   6.0   1.8  0.7  1.4  48.7      0.1  0.1   3.1  0.2   \n",
       "7997    5537  11796  85  28.2  10.7  4.0  9.0  45.1      0.2  0.6  23.6  2.8   \n",
       "7998    1292  11797  39   7.7   2.5  1.0  2.3  40.1     -0.3 -0.5  13.3  0.6   \n",
       "7999    2900  11798  49  19.2   4.8  1.7  5.1  32.6      0.7  2.4  41.3  0.8   \n",
       "\n",
       "      FTA   FT%  OREB  DREB  REB  AST  STL  BLK  TOV  TARGET_5Yrs  \n",
       "0     2.9  72.1   2.2   2.0  3.8  3.2  1.1  0.2  1.6            1  \n",
       "1     3.6  67.8   3.6   3.7  6.6  0.7  0.5  0.6  1.4            1  \n",
       "2     0.6  75.7   0.6   1.8  2.4  0.8  0.4  0.2  0.6            1  \n",
       "3     1.5  66.9   0.8   2.0  3.0  1.8  0.4  0.1  1.9            1  \n",
       "4     0.5  54.0   2.4   2.7  4.9  0.4  0.4  0.6  0.7            1  \n",
       "...   ...   ...   ...   ...  ...  ...  ...  ...  ...          ...  \n",
       "7995  0.6  65.7   0.3   1.8  1.9  0.5  0.3  0.2  0.4            1  \n",
       "7996  0.4  70.1   1.0   1.1  2.0  0.1  0.0  0.3  0.3            1  \n",
       "7997  3.9  69.7   1.0   2.1  3.1  3.4  1.2  0.2  1.8            1  \n",
       "7998  0.7  74.3   0.4   0.6  0.9  0.2  0.3  0.3  0.5            1  \n",
       "7999  1.3  70.1   0.1   1.1  1.2  3.5  0.9 -0.3  1.4            1  \n",
       "\n",
       "[8000 rows x 22 columns]"
      ]
     },
     "metadata": {},
     "output_type": "display_data"
    }
   ],
   "source": [
    "# Turn off table squishing\n",
    "pd.options.display.max_columns = None\n",
    "\n",
    "# Import and inspect training data\n",
    "df_train = pd.read_csv('../../data/raw/train.csv')\n",
    "display(df_train)\n",
    "\n",
    "# Import and inspect test data\n",
    "df_test = pd.read_csv('../../data/raw/test.csv')\n",
    "#display(df_test)"
   ]
  },
  {
   "cell_type": "markdown",
   "metadata": {},
   "source": [
    "## Check data"
   ]
  },
  {
   "cell_type": "markdown",
   "metadata": {},
   "source": [
    "### Data dictionary"
   ]
  },
  {
   "cell_type": "code",
   "execution_count": 3,
   "metadata": {},
   "outputs": [],
   "source": [
    "# Direct copy & paste from:\n",
    "# https://www.kaggle.com/c/uts-advdsi-nba-career-prediction/data\n",
    "\n",
    "DataDict = \\\n",
    "    { \"Id\": \"Player Identifier\"\n",
    "    , \"GP\": \"Games Played\"\n",
    "    , \"MIN\": \"Minutes Played\"\n",
    "    , \"PTS\": \"Points Per Game\"\n",
    "    , \"FGM\": \"Field Goals Made\"\n",
    "    , \"FGA\": \"Field Goals Attempts\"\n",
    "    , \"FG\": \"Field Goals Percent\"\n",
    "    , \"3P_Made\": \"3-Points Made\"\n",
    "    , \"3PA\": \"3-Points Attempts\"\n",
    "    , \"3P\": \"3-Points Percent\"\n",
    "    , \"FTM\": \"Free Throw Made\"\n",
    "    , \"FTA\": \"Free Throw Attempts\"\n",
    "    , \"FT\": \"Free Throw Percent\"\n",
    "    , \"OREB\": \"Offensive Rebounds\"\n",
    "    , \"DREB\": \"Defensive Rebounds\"\n",
    "    , \"REB\": \"Rebounds\"\n",
    "    , \"AST\": \"Assists\"\n",
    "    , \"STL\": \"Steals\"\n",
    "    , \"BLK\": \"Blocks\"\n",
    "    , \"TOV\": \"Turnovers\"\n",
    "    , \"TARGET_5Yrs\": \"Outcome: 1 if career length >= 5 years, 0 otherwise\"\n",
    "    }"
   ]
  },
  {
   "cell_type": "markdown",
   "metadata": {},
   "source": [
    "### Data exploration"
   ]
  },
  {
   "cell_type": "raw",
   "metadata": {},
   "source": [
    "# Create profile report\n",
    "profile = ProfileReport(df_train, title=\"Profile Report\", minimal=True)\n",
    "# Export\n",
    "profile.to_file(\"../../reports/David/initial_eda_report.html\")\n",
    "# View\n",
    "#profile"
   ]
  },
  {
   "cell_type": "markdown",
   "metadata": {},
   "source": [
    "## Experimentation"
   ]
  },
  {
   "cell_type": "markdown",
   "metadata": {},
   "source": [
    "### Data manipulation"
   ]
  },
  {
   "cell_type": "markdown",
   "metadata": {},
   "source": [
    "#### Standard"
   ]
  },
  {
   "cell_type": "code",
   "execution_count": 44,
   "metadata": {},
   "outputs": [],
   "source": [
    "# Convert negative values to absolute values\n",
    "df_train = abs(df_train)\n",
    "df_test = abs(df_test)\n",
    "\n",
    "# Drop ID column - training and test data\n",
    "df_train = df_train.drop(['Id_old','Id'], axis=1)\n",
    "df_test = df_test.drop(['Id_old','Id'], axis=1)\n",
    "\n",
    "# Identify target\n",
    "features = df_train.iloc[:,:-1].to_numpy()\n",
    "target = df_train.iloc[:,-1].to_numpy()\n",
    "\n",
    "# Standardize features - training data\n",
    "from sklearn.preprocessing import StandardScaler\n",
    "scaler = StandardScaler()\n",
    "features = scaler.fit_transform(features)\n",
    "\n",
    "# Standardize features - test data\n",
    "X_test = scaler.fit_transform(df_test)\n",
    "\n",
    "# Save scaler into models folder\n",
    "dump(scaler, '../../models/David/scaler.joblib')\n",
    "\n",
    "# Split into training and validation sets\n",
    "from sklearn.model_selection import train_test_split\n",
    "X_train, X_val, y_train, y_val = train_test_split(features, target, test_size=0.2, random_state=8) #0.002 for best model? #####\n",
    "\n",
    "# Resample training data if required\n",
    "from imblearn.over_sampling import SMOTE\n",
    "sm = SMOTE(random_state=42)\n",
    "X_train_res, y_train_res = sm.fit_resample(X_train, y_train)\n",
    "\n",
    "#X_train_cv, y_train_cv = (features, target)"
   ]
  },
  {
   "cell_type": "markdown",
   "metadata": {},
   "source": [
    "#### Feature engineering alternative"
   ]
  },
  {
   "cell_type": "code",
   "execution_count": 37,
   "metadata": {},
   "outputs": [],
   "source": [
    "# Convert negative values to absolute values\n",
    "df_train = abs(df_train)\n",
    "df_test = abs(df_test)\n",
    "\n",
    "# Drop ID column - training and test data\n",
    "df_train = df_train.drop(['Id_old','Id', 'MIN', 'PTS', 'FGM', 'FGA', '3PA', 'FTM', 'FTA', 'OREB', 'DREB', 'AST', 'STL', 'TOV'], axis=1)\n",
    "df_test = df_test.drop(['Id_old','Id', 'MIN', 'PTS', 'FGM', 'FGA', '3PA', 'FTM', 'FTA', 'OREB', 'DREB', 'AST', 'STL', 'TOV'], axis=1)\n",
    "\n",
    "# Identify target\n",
    "features = df_train.iloc[:,:-1].to_numpy()\n",
    "target = df_train.iloc[:,-1].to_numpy()\n",
    "\n",
    "# Standardize features - training data\n",
    "from sklearn.preprocessing import StandardScaler\n",
    "scaler = StandardScaler()\n",
    "features = scaler.fit_transform(features)\n",
    "\n",
    "# Standardize features - test data\n",
    "X_test = scaler.fit_transform(df_test)\n",
    "\n",
    "# Save scaler into models folder\n",
    "dump(scaler, '../../models/David/scaler.joblib')\n",
    "\n",
    "# Split into training and validation sets\n",
    "from sklearn.model_selection import train_test_split\n",
    "X_train, X_val, y_train, y_val = train_test_split(features, target, test_size=0.2, random_state=8) #0.002 for best model? #####\n",
    "\n",
    "# Resample training data if required\n",
    "from imblearn.over_sampling import SMOTE\n",
    "sm = SMOTE(random_state=42)\n",
    "X_train_res, y_train_res = sm.fit_resample(X_train, y_train)\n",
    "\n",
    "#X_train_cv, y_train_cv = (features, target)"
   ]
  },
  {
   "cell_type": "code",
   "execution_count": 5,
   "metadata": {},
   "outputs": [
    {
     "data": {
      "text/plain": [
       "['../../data/processed/David/y_val.joblib']"
      ]
     },
     "execution_count": 5,
     "metadata": {},
     "output_type": "execute_result"
    }
   ],
   "source": [
    "# Save data objects into folder\n",
    "dump(scaler, '../../models/David/scaler.joblib')\n",
    "dump(X_train, '../../data/processed/David/X_train.joblib')\n",
    "dump(X_train_res, '../../data/processed/David/X_train_res.joblib')\n",
    "dump(X_val, '../../data/processed/David/X_val.joblib')\n",
    "dump(y_train, '../../data/processed/David/y_train.joblib')\n",
    "dump(y_train_res, '../../data/processed/David/y_train_res.joblib')\n",
    "dump(y_val, '../../data/processed/David/y_val.joblib')"
   ]
  },
  {
   "cell_type": "markdown",
   "metadata": {},
   "source": [
    "### Set up experiment space"
   ]
  },
  {
   "cell_type": "code",
   "execution_count": 45,
   "metadata": {},
   "outputs": [],
   "source": [
    "# Set dataframe for score dumps\n",
    "pred_scor = pd.DataFrame(\n",
    "        { \"name\": []\n",
    "        , \"auc\": []\n",
    "        , \"sens\": []\n",
    "        , \"spec\": []\n",
    "        , \"f1\": []\n",
    "        }\n",
    "    )"
   ]
  },
  {
   "cell_type": "code",
   "execution_count": 46,
   "metadata": {},
   "outputs": [],
   "source": [
    "# Define function to fit and save models, and run predictions on validation data\n",
    "def fit_predict_save(name, x, y):\n",
    "    \n",
    "    # Fit classifier\n",
    "    reg.fit(x, y)\n",
    "    \n",
    "    global y_train_pred, y_val_pred, y_val_prob\n",
    "    \n",
    "    # Model predictions on training and validation data\n",
    "    y_train_pred = reg.predict(x)\n",
    "    y_val_pred = reg.predict(X_val)\n",
    "    y_val_prob = reg.predict_proba(X_val)[:,1]\n",
    "    \n",
    "    # Save fitted model into model folder\n",
    "    save_path = ('../../models/David/'\"%s\"'.joblib' % name) \n",
    "    dump(reg, save_path)\n",
    "    \n",
    "    # Calculate AUC\n",
    "    roc_auc_val = roc_auc_score(y_val, y_val_prob)\n",
    "    print(\"\\nROC_AUC:\", roc_auc_val, \"\\n\")\n",
    "    \n",
    "    return y_train_pred, y_val_pred, y_val_prob"
   ]
  },
  {
   "cell_type": "code",
   "execution_count": 47,
   "metadata": {},
   "outputs": [],
   "source": [
    "# Define function to plot confidence matrix and ROC curve for model evaluation\n",
    "def plot_cm_roc():\n",
    "    \n",
    "    # Print confusion matrix (standard and normalized formats)\n",
    "    fig = plt.figure(figsize=(8,8))\n",
    "    ax1 = fig.add_subplot(121) \n",
    "    ax1.title.set_text(\"Confusion matrix\")\n",
    "    plot_confusion_matrix(reg, X_val, y_val, \n",
    "                          cmap=plt.cm.Oranges,\n",
    "                          colorbar=False,\n",
    "                          ax=ax1)\n",
    "\n",
    "    ax2 = fig.add_subplot(122)\n",
    "    ax2.title.set_text(\"Confusion matrix (normalized)\")\n",
    "    plot_confusion_matrix(reg, X_val, y_val,\n",
    "                          cmap=plt.cm.Blues,\n",
    "                          colorbar=False,\n",
    "                          normalize='true',\n",
    "                          ax=ax2)\n",
    "\n",
    "    plt.subplots_adjust(wspace=0.5)\n",
    "    plt.show() \n",
    "    \n",
    "    # Plot ROC curve\n",
    "    plot_roc_curve(reg, X_val, y_val)\n",
    "    plt.plot([0, 1], [0, 1],'r--')\n",
    "    plt.title(\"Receiver Operating Characteristic\")\n",
    "    plt.show()\n",
    "    \n",
    "    return None "
   ]
  },
  {
   "cell_type": "code",
   "execution_count": 48,
   "metadata": {},
   "outputs": [],
   "source": [
    "# Define function to save model performance to a dataframe\n",
    "def save_perf \\\n",
    "    ( name:str=None\n",
    "     , overwrite:bool=True\n",
    "     , print_dataframe: bool=True\n",
    "     , save_dataframe:bool=True\n",
    "    ):\n",
    "\n",
    "    # Import modules\n",
    "    from sklearn.metrics import roc_curve, auc, confusion_matrix\n",
    "    from sklearn.metrics import f1_score as f1\n",
    "    \n",
    "    # Define and calculate metrics\n",
    "    fpr, tpr, thresholds = roc_curve(y_val, y_val_prob)\n",
    "    val_auc = auc(fpr, tpr)\n",
    "    tn, fp, fn, tp = confusion_matrix(y_val, y_val_pred).ravel()\n",
    "    val_sens = round(tp/(tp+fn), 5)\n",
    "    val_spec = round(tn/(tn+fp), 5)\n",
    "    val_f1 = round(f1(y_val,y_val_pred), 5)\n",
    "    \n",
    "    global pred_scor\n",
    "    \n",
    "    df = pred_scor\n",
    "\n",
    "    # Two different methods of updating the table\n",
    "    if overwrite and name in df[\"name\"].to_numpy():\n",
    "        df.loc[df[\"name\"] == name, [\"auc\"]] = val_auc\n",
    "        df.loc[df[\"name\"] == name, [\"sens\"]] = val_sens\n",
    "        df.loc[df[\"name\"] == name, [\"spec\"]] = val_spec\n",
    "        df.loc[df[\"name\"] == name, [\"f1\"]] = val_f1\n",
    "    else:\n",
    "        new = pd.DataFrame \\\n",
    "            (\n",
    "                { \"name\": [name]\n",
    "                , \"auc\": [val_auc]\n",
    "                , \"sens\": [val_sens]\n",
    "                , \"spec\": [val_spec]\n",
    "                , \"f1\": [val_f1]\n",
    "                }\n",
    "            )\n",
    "        \n",
    "        df = pred_scor.append(new)\n",
    "       \n",
    "    # Fix Pandas indexes\n",
    "    df.sort_values(by=['auc'], ascending=False, inplace=True)\n",
    "    df.reset_index(drop=True, inplace=True)\n",
    "    \n",
    "\n",
    "    # Assign back to the global scope\n",
    "    pred_scor = df\n",
    "    \n",
    "    if print_dataframe:\n",
    "        display(df)\n",
    "        \n",
    "    if save_dataframe:\n",
    "        df.to_csv(\"../../models/David/experiment_results.csv\")\n",
    "    \n",
    "    return None"
   ]
  },
  {
   "cell_type": "markdown",
   "metadata": {},
   "source": [
    "### Modelling"
   ]
  },
  {
   "cell_type": "markdown",
   "metadata": {},
   "source": [
    "#### Logistic Regression - CV"
   ]
  },
  {
   "cell_type": "code",
   "execution_count": 49,
   "metadata": {},
   "outputs": [],
   "source": [
    "# Create and fit classifier\n",
    "from sklearn.linear_model import LogisticRegressionCV \n",
    "\n",
    "C_list = np.linspace(0.001, 0.5, 20)\n",
    "\n",
    "reg = LogisticRegressionCV(\n",
    "    Cs=C_list, \n",
    "    cv=20,\n",
    "    penalty='l1',\n",
    "    scoring='roc_auc', \n",
    "    solver='liblinear',\n",
    "    tol=1e-4, \n",
    "    max_iter=1000, \n",
    "    class_weight='balanced', \n",
    "    n_jobs=10,\n",
    "    verbose=2, \n",
    "    refit=True, \n",
    "    multi_class='ovr', \n",
    "    random_state=42)"
   ]
  },
  {
   "cell_type": "raw",
   "metadata": {},
   "source": [
    "# Create and fit classifier  -gridsearch results\n",
    "from sklearn.linear_model import LogisticRegressionCV \n",
    "\n",
    "C_list = np.linspace(0.001, 0.1)\n",
    "\n",
    "reg = LogisticRegressionCV(\n",
    "    Cs=C_list, \n",
    "    cv=20,\n",
    "    penalty='l2',\n",
    "    scoring='roc_auc', \n",
    "    solver='liblinear',\n",
    "    tol=1e-4, \n",
    "    max_iter=100, \n",
    "    class_weight='balanced', \n",
    "    n_jobs=10,\n",
    "    verbose=2, \n",
    "    refit=True, \n",
    "    multi_class='ovr', \n",
    "    random_state=42)"
   ]
  },
  {
   "cell_type": "raw",
   "metadata": {},
   "source": [
    "# Grid search cross validation\n",
    "from sklearn.model_selection import GridSearchCV\n",
    "from sklearn.linear_model import LogisticRegression\n",
    "grid={\"C\":[0.001,0.01,0.1,0.5,10,20], \"penalty\":[\"l1\",\"l2\"], \"max_iter\":[100,500,1000,2000]}# l1 lasso l2 ridge\n",
    "reg=LogisticRegression(solver='liblinear', verbose=2)\n",
    "reg_cv=GridSearchCV(reg,grid,cv=20)\n",
    "reg_cv.fit(X_train,y_train)\n",
    "\n",
    "print(\"tuned hyperparameters :(best parameters) \",reg_cv.best_params_)\n",
    "print(\"accuracy :\",reg_cv.best_score_)"
   ]
  },
  {
   "cell_type": "raw",
   "metadata": {},
   "source": [
    "from sklearn.linear_model import LogisticRegression\n",
    "reg=LogisticRegression(\n",
    "    solver='liblinear', \n",
    "    verbose=2,\n",
    "    C = 0.1,\n",
    "    max_iter=100,\n",
    "    penalty='l2',\n",
    "    #class_weight='balanced',\n",
    "    #multi_class='ovr'\n",
    ")"
   ]
  },
  {
   "cell_type": "raw",
   "metadata": {},
   "source": [
    "# No validation set\n",
    "reg.fit(X_train_cv, y_train_cv)\n",
    "y_train_prob_cv = reg.predict_proba(X_train_cv)[:,1]\n",
    "roc_auc_val = roc_auc_score(y_train_cv, y_train_prob_cv)\n",
    "print(\"\\nROC_AUC:\", roc_auc_val, \"\\n\")"
   ]
  },
  {
   "cell_type": "code",
   "execution_count": 50,
   "metadata": {},
   "outputs": [
    {
     "name": "stderr",
     "output_type": "stream",
     "text": [
      "[Parallel(n_jobs=10)]: Using backend LokyBackend with 10 concurrent workers.\n",
      "[Parallel(n_jobs=10)]: Done  12 out of  20 | elapsed:   28.5s remaining:   19.0s\n"
     ]
    },
    {
     "name": "stdout",
     "output_type": "stream",
     "text": [
      "[LibLinear]\n",
      "ROC_AUC: 0.704987092605845 \n",
      "\n"
     ]
    },
    {
     "name": "stderr",
     "output_type": "stream",
     "text": [
      "[Parallel(n_jobs=10)]: Done  20 out of  20 | elapsed:   32.6s finished\n"
     ]
    },
    {
     "data": {
      "text/plain": [
       "(array([0, 1, 0, ..., 0, 1, 1], dtype=int64),\n",
       " array([0, 0, 1, ..., 1, 0, 1], dtype=int64),\n",
       " array([0.35412391, 0.45389976, 0.67414655, ..., 0.66343677, 0.36252995,\n",
       "        0.66503419]))"
      ]
     },
     "execution_count": 50,
     "metadata": {},
     "output_type": "execute_result"
    }
   ],
   "source": [
    "fit_predict_save('log_reg_cv', X_train, y_train)"
   ]
  },
  {
   "cell_type": "code",
   "execution_count": 51,
   "metadata": {},
   "outputs": [
    {
     "data": {
      "image/png": "[encoded data removed]",
      "text/plain": [
       "<Figure size 576x576 with 2 Axes>"
      ]
     },
     "metadata": {
      "needs_background": "light"
     },
     "output_type": "display_data"
    },
    {
     "data": {
      "image/png": "[encoded data removed]",
      "text/plain": [
       "<Figure size 432x288 with 1 Axes>"
      ]
     },
     "metadata": {
      "needs_background": "light"
     },
     "output_type": "display_data"
    }
   ],
   "source": [
    "plot_cm_roc()"
   ]
  },
  {
   "cell_type": "code",
   "execution_count": 52,
   "metadata": {},
   "outputs": [
    {
     "name": "stderr",
     "output_type": "stream",
     "text": [
      "c:\\users\\david anker\\.virtualenvs\\mdsi_adsi_feb21_at1-n_gyw-cp\\lib\\site-packages\\ipykernel_launcher.py:26: FutureWarning: elementwise comparison failed; returning scalar instead, but in the future will perform elementwise comparison\n"
     ]
    },
    {
     "data": {
      "text/html": [
       "<div>\n",
       "<style scoped>\n",
       "    .dataframe tbody tr th:only-of-type {\n",
       "        vertical-align: middle;\n",
       "    }\n",
       "\n",
       "    .dataframe tbody tr th {\n",
       "        vertical-align: top;\n",
       "    }\n",
       "\n",
       "    .dataframe thead th {\n",
       "        text-align: right;\n",
       "    }\n",
       "</style>\n",
       "<table border=\"1\" class=\"dataframe\">\n",
       "  <thead>\n",
       "    <tr style=\"text-align: right;\">\n",
       "      <th></th>\n",
       "      <th>name</th>\n",
       "      <th>auc</th>\n",
       "      <th>sens</th>\n",
       "      <th>spec</th>\n",
       "      <th>f1</th>\n",
       "    </tr>\n",
       "  </thead>\n",
       "  <tbody>\n",
       "    <tr>\n",
       "      <th>0</th>\n",
       "      <td>log_reg_cv</td>\n",
       "      <td>0.704987</td>\n",
       "      <td>0.62249</td>\n",
       "      <td>0.65759</td>\n",
       "      <td>0.73754</td>\n",
       "    </tr>\n",
       "  </tbody>\n",
       "</table>\n",
       "</div>"
      ],
      "text/plain": [
       "         name       auc     sens     spec       f1\n",
       "0  log_reg_cv  0.704987  0.62249  0.65759  0.73754"
      ]
     },
     "metadata": {},
     "output_type": "display_data"
    }
   ],
   "source": [
    "save_perf('log_reg_cv')"
   ]
  },
  {
   "cell_type": "markdown",
   "metadata": {},
   "source": [
    "#### Model interpretation"
   ]
  },
  {
   "cell_type": "code",
   "execution_count": 13,
   "metadata": {},
   "outputs": [],
   "source": [
    "# Variable importance by permutation\n",
    "from mlxtend.evaluate import feature_importance_permutation\n",
    "\n",
    "imp_vals, imp_all = feature_importance_permutation(predict_method = reg.predict,\n",
    "                                             X = X_val,\n",
    "                                             y = y_val,\n",
    "                                             metric = 'accuracy',\n",
    "                                             num_rounds = 10,\n",
    "                                             seed = 1)"
   ]
  },
  {
   "cell_type": "code",
   "execution_count": 14,
   "metadata": {},
   "outputs": [
    {
     "data": {
      "image/png": "[encoded data removed]",
      "text/plain": [
       "<Figure size 432x288 with 1 Axes>"
      ]
     },
     "metadata": {
      "needs_background": "light"
     },
     "output_type": "display_data"
    }
   ],
   "source": [
    "# from user guide\n",
    "\n",
    "std = np.std(imp_all, axis=1)\n",
    "indices = np.argsort(imp_vals)[::-1]\n",
    "\n",
    "plt.figure()\n",
    "plt.title(\"Feature importance via permutation importance w. std. dev.\")\n",
    "plt.bar(range(X_val.shape[1]), imp_vals[indices],\n",
    "        yerr=std[indices])\n",
    "plt.xticks(range(X_val.shape[1]), indices)\n",
    "plt.xlim([-1, X_val.shape[1]])\n",
    "plt.show()"
   ]
  },
  {
   "cell_type": "markdown",
   "metadata": {},
   "source": [
    "#### Partial Dependence Plot"
   ]
  },
  {
   "cell_type": "code",
   "execution_count": 63,
   "metadata": {},
   "outputs": [
    {
     "ename": "ValueError",
     "evalue": "Each entry in features must be either an int, a string, or an iterable of size at most 2.",
     "output_type": "error",
     "traceback": [
      "\u001b[1;31m---------------------------------------------------------------------------\u001b[0m",
      "\u001b[1;31mValueError\u001b[0m                                Traceback (most recent call last)",
      "\u001b[1;32m<ipython-input-63-3d15b465eb5f>\u001b[0m in \u001b[0;36m<module>\u001b[1;34m\u001b[0m\n\u001b[0;32m      5\u001b[0m                         \u001b[0mfeatures\u001b[0m\u001b[1;33m=\u001b[0m\u001b[1;33m[\u001b[0m\u001b[0mfeature_index\u001b[0m\u001b[1;33m]\u001b[0m\u001b[1;33m,\u001b[0m\u001b[1;33m\u001b[0m\u001b[1;33m\u001b[0m\u001b[0m\n\u001b[0;32m      6\u001b[0m                         \u001b[0mn_jobs\u001b[0m\u001b[1;33m=\u001b[0m\u001b[1;36m3\u001b[0m\u001b[1;33m,\u001b[0m\u001b[1;33m\u001b[0m\u001b[1;33m\u001b[0m\u001b[0m\n\u001b[1;32m----> 7\u001b[1;33m                         grid_resolution=20)\n\u001b[0m",
      "\u001b[1;32mc:\\users\\david anker\\.virtualenvs\\mdsi_adsi_feb21_at1-n_gyw-cp\\lib\\site-packages\\sklearn\\utils\\validation.py\u001b[0m in \u001b[0;36minner_f\u001b[1;34m(*args, **kwargs)\u001b[0m\n\u001b[0;32m     61\u001b[0m             \u001b[0mextra_args\u001b[0m \u001b[1;33m=\u001b[0m \u001b[0mlen\u001b[0m\u001b[1;33m(\u001b[0m\u001b[0margs\u001b[0m\u001b[1;33m)\u001b[0m \u001b[1;33m-\u001b[0m \u001b[0mlen\u001b[0m\u001b[1;33m(\u001b[0m\u001b[0mall_args\u001b[0m\u001b[1;33m)\u001b[0m\u001b[1;33m\u001b[0m\u001b[1;33m\u001b[0m\u001b[0m\n\u001b[0;32m     62\u001b[0m             \u001b[1;32mif\u001b[0m \u001b[0mextra_args\u001b[0m \u001b[1;33m<=\u001b[0m \u001b[1;36m0\u001b[0m\u001b[1;33m:\u001b[0m\u001b[1;33m\u001b[0m\u001b[1;33m\u001b[0m\u001b[0m\n\u001b[1;32m---> 63\u001b[1;33m                 \u001b[1;32mreturn\u001b[0m \u001b[0mf\u001b[0m\u001b[1;33m(\u001b[0m\u001b[1;33m*\u001b[0m\u001b[0margs\u001b[0m\u001b[1;33m,\u001b[0m \u001b[1;33m**\u001b[0m\u001b[0mkwargs\u001b[0m\u001b[1;33m)\u001b[0m\u001b[1;33m\u001b[0m\u001b[1;33m\u001b[0m\u001b[0m\n\u001b[0m\u001b[0;32m     64\u001b[0m \u001b[1;33m\u001b[0m\u001b[0m\n\u001b[0;32m     65\u001b[0m             \u001b[1;31m# extra_args > 0\u001b[0m\u001b[1;33m\u001b[0m\u001b[1;33m\u001b[0m\u001b[1;33m\u001b[0m\u001b[0m\n",
      "\u001b[1;32mc:\\users\\david anker\\.virtualenvs\\mdsi_adsi_feb21_at1-n_gyw-cp\\lib\\site-packages\\sklearn\\inspection\\_plot\\partial_dependence.py\u001b[0m in \u001b[0;36mplot_partial_dependence\u001b[1;34m(estimator, X, features, feature_names, target, response_method, n_cols, grid_resolution, percentiles, method, n_jobs, verbose, line_kw, contour_kw, ax, kind, subsample, random_state)\u001b[0m\n\u001b[0;32m    307\u001b[0m             ) from e\n\u001b[0;32m    308\u001b[0m         \u001b[1;32mif\u001b[0m \u001b[1;32mnot\u001b[0m \u001b[1;36m1\u001b[0m \u001b[1;33m<=\u001b[0m \u001b[0mnp\u001b[0m\u001b[1;33m.\u001b[0m\u001b[0msize\u001b[0m\u001b[1;33m(\u001b[0m\u001b[0mfxs\u001b[0m\u001b[1;33m)\u001b[0m \u001b[1;33m<=\u001b[0m \u001b[1;36m2\u001b[0m\u001b[1;33m:\u001b[0m\u001b[1;33m\u001b[0m\u001b[1;33m\u001b[0m\u001b[0m\n\u001b[1;32m--> 309\u001b[1;33m             raise ValueError('Each entry in features must be either an int, '\n\u001b[0m\u001b[0;32m    310\u001b[0m                              'a string, or an iterable of size at most 2.')\n\u001b[0;32m    311\u001b[0m         \u001b[1;32mif\u001b[0m \u001b[0mkind\u001b[0m \u001b[1;33m!=\u001b[0m \u001b[1;34m'average'\u001b[0m \u001b[1;32mand\u001b[0m \u001b[0mnp\u001b[0m\u001b[1;33m.\u001b[0m\u001b[0msize\u001b[0m\u001b[1;33m(\u001b[0m\u001b[0mfxs\u001b[0m\u001b[1;33m)\u001b[0m \u001b[1;33m>\u001b[0m \u001b[1;36m1\u001b[0m\u001b[1;33m:\u001b[0m\u001b[1;33m\u001b[0m\u001b[1;33m\u001b[0m\u001b[0m\n",
      "\u001b[1;31mValueError\u001b[0m: Each entry in features must be either an int, a string, or an iterable of size at most 2."
     ]
    }
   ],
   "source": [
    "from sklearn.inspection import plot_partial_dependence\n",
    "feature_index = X_val[1,]\n",
    "plot_partial_dependence(reg, \n",
    "                        X_val, \n",
    "                        features=[feature_index], \n",
    "                        n_jobs=3, \n",
    "                        grid_resolution=20)"
   ]
  },
  {
   "cell_type": "markdown",
   "metadata": {},
   "source": [
    "## Test"
   ]
  },
  {
   "cell_type": "code",
   "execution_count": 32,
   "metadata": {},
   "outputs": [],
   "source": [
    "# Predict target probabilities\n",
    "test_probs = reg.predict_proba(X_test)[:,1]"
   ]
  },
  {
   "cell_type": "code",
   "execution_count": 33,
   "metadata": {},
   "outputs": [],
   "source": [
    "# Create dataframe object\n",
    "test_probs_df = pd.DataFrame(test_probs, columns = [\"TARGET_5Yrs\"])\n",
    "\n",
    "# Name 'ID' column\n",
    "test_probs_df.index.name = \"Id\""
   ]
  },
  {
   "cell_type": "code",
   "execution_count": 34,
   "metadata": {},
   "outputs": [],
   "source": [
    "# Save model predictions on test data to .csv for import into Kaggle\n",
    "test_probs_df.to_csv(\"../../reports/David/kaggle_sub.csv\")"
   ]
  },
  {
   "cell_type": "code",
   "execution_count": null,
   "metadata": {},
   "outputs": [],
   "source": []
  }
 ],
 "metadata": {
  "kernelspec": {
   "display_name": "Python 3",
   "language": "python",
   "name": "python3"
  },
  "language_info": {
   "codemirror_mode": {
    "name": "ipython",
    "version": 3
   },
   "file_extension": ".py",
   "mimetype": "text/x-python",
   "name": "python",
   "nbconvert_exporter": "python",
   "pygments_lexer": "ipython3",
   "version": "3.7.9"
  }
 },
 "nbformat": 4,
 "nbformat_minor": 4
}
